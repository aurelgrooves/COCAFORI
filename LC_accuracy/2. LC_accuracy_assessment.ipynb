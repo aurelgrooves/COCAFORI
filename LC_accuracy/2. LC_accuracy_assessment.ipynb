{
 "cells": [
  {
   "cell_type": "code",
   "execution_count": 50,
   "id": "c030d73b-ea82-4442-b44b-8c49def824f2",
   "metadata": {},
   "outputs": [
    {
     "data": {
      "text/html": [
       "\n",
       "            <style>\n",
       "                .geemap-dark {\n",
       "                    --jp-widgets-color: white;\n",
       "                    --jp-widgets-label-color: white;\n",
       "                    --jp-ui-font-color1: white;\n",
       "                    --jp-layout-color2: #454545;\n",
       "                    background-color: #383838;\n",
       "                }\n",
       "\n",
       "                .geemap-dark .jupyter-button {\n",
       "                    --jp-layout-color3: #383838;\n",
       "                }\n",
       "\n",
       "                .geemap-colab {\n",
       "                    background-color: var(--colab-primary-surface-color, white);\n",
       "                }\n",
       "\n",
       "                .geemap-colab .jupyter-button {\n",
       "                    --jp-layout-color3: var(--colab-primary-surface-color, white);\n",
       "                }\n",
       "            </style>\n",
       "            "
      ],
      "text/plain": [
       "<IPython.core.display.HTML object>"
      ]
     },
     "metadata": {},
     "output_type": "display_data"
    }
   ],
   "source": [
    "import ee\n",
    "ee.Initialize()\n",
    "\n",
    "import geemap\n",
    "import pandas as pd\n",
    "import geopandas as gpd\n",
    "import numpy as np \n",
    "\n",
    "import seaborn as sns\n",
    "from matplotlib import pyplot as plt\n",
    "from sklearn.metrics import confusion_matrix\n",
    "from sklearn.metrics import f1_score, precision_score, recall_score, confusion_matrix\n",
    "\n",
    "pd.options.display.float_format = '{:.3f}'.format"
   ]
  },
  {
   "cell_type": "markdown",
   "id": "86cd5499-ef71-4025-936b-9604d5349930",
   "metadata": {},
   "source": [
    "## 1 - input parameters"
   ]
  },
  {
   "cell_type": "code",
   "execution_count": 51,
   "id": "143a9652-4451-46ed-a616-43d5a211245a",
   "metadata": {},
   "outputs": [
    {
     "data": {
      "text/html": [
       "\n",
       "            <style>\n",
       "                .geemap-dark {\n",
       "                    --jp-widgets-color: white;\n",
       "                    --jp-widgets-label-color: white;\n",
       "                    --jp-ui-font-color1: white;\n",
       "                    --jp-layout-color2: #454545;\n",
       "                    background-color: #383838;\n",
       "                }\n",
       "\n",
       "                .geemap-dark .jupyter-button {\n",
       "                    --jp-layout-color3: #383838;\n",
       "                }\n",
       "\n",
       "                .geemap-colab {\n",
       "                    background-color: var(--colab-primary-surface-color, white);\n",
       "                }\n",
       "\n",
       "                .geemap-colab .jupyter-button {\n",
       "                    --jp-layout-color3: var(--colab-primary-surface-color, white);\n",
       "                }\n",
       "            </style>\n",
       "            "
      ],
      "text/plain": [
       "<IPython.core.display.HTML object>"
      ]
     },
     "metadata": {},
     "output_type": "display_data"
    }
   ],
   "source": [
    "ISO = 'CMR'"
   ]
  },
  {
   "cell_type": "code",
   "execution_count": 52,
   "id": "eb85366f-4556-4b32-b97a-b3989cf394eb",
   "metadata": {},
   "outputs": [
    {
     "data": {
      "text/html": [
       "\n",
       "            <style>\n",
       "                .geemap-dark {\n",
       "                    --jp-widgets-color: white;\n",
       "                    --jp-widgets-label-color: white;\n",
       "                    --jp-ui-font-color1: white;\n",
       "                    --jp-layout-color2: #454545;\n",
       "                    background-color: #383838;\n",
       "                }\n",
       "\n",
       "                .geemap-dark .jupyter-button {\n",
       "                    --jp-layout-color3: #383838;\n",
       "                }\n",
       "\n",
       "                .geemap-colab {\n",
       "                    background-color: var(--colab-primary-surface-color, white);\n",
       "                }\n",
       "\n",
       "                .geemap-colab .jupyter-button {\n",
       "                    --jp-layout-color3: var(--colab-primary-surface-color, white);\n",
       "                }\n",
       "            </style>\n",
       "            "
      ],
      "text/plain": [
       "<IPython.core.display.HTML object>"
      ]
     },
     "metadata": {},
     "output_type": "display_data"
    }
   ],
   "source": [
    "classified_image = ee.Image('projects/ee-cocoacmr/assets/outputs/CMR_LC_2020')\n",
    "tnt_image = ee.Image('projects/ee-cocoacmr/assets/outputs/CMR_TNTMMU_2020')\n",
    "#classified_image = ee.Image('projects/ee-cocoacmr/assets/outputs/CMR_GIEC_v10')\n",
    "#classified_image = ee.Image('projects/ee-cocoacmr/assets/outputs/CMR_TNTMMU_2020_v26')"
   ]
  },
  {
   "cell_type": "code",
   "execution_count": 53,
   "id": "0588805d-e4fb-482d-9104-dc73e61374c7",
   "metadata": {},
   "outputs": [
    {
     "data": {
      "text/html": [
       "\n",
       "            <style>\n",
       "                .geemap-dark {\n",
       "                    --jp-widgets-color: white;\n",
       "                    --jp-widgets-label-color: white;\n",
       "                    --jp-ui-font-color1: white;\n",
       "                    --jp-layout-color2: #454545;\n",
       "                    background-color: #383838;\n",
       "                }\n",
       "\n",
       "                .geemap-dark .jupyter-button {\n",
       "                    --jp-layout-color3: #383838;\n",
       "                }\n",
       "\n",
       "                .geemap-colab {\n",
       "                    background-color: var(--colab-primary-surface-color, white);\n",
       "                }\n",
       "\n",
       "                .geemap-colab .jupyter-button {\n",
       "                    --jp-layout-color3: var(--colab-primary-surface-color, white);\n",
       "                }\n",
       "            </style>\n",
       "            "
      ],
      "text/plain": [
       "<IPython.core.display.HTML object>"
      ]
     },
     "metadata": {},
     "output_type": "display_data"
    }
   ],
   "source": [
    "# resolution of the map\n",
    "scale = 10"
   ]
  },
  {
   "cell_type": "code",
   "execution_count": 54,
   "id": "0b4b01ae-99dd-47d6-988a-b4a640d460d5",
   "metadata": {},
   "outputs": [
    {
     "data": {
      "text/html": [
       "\n",
       "            <style>\n",
       "                .geemap-dark {\n",
       "                    --jp-widgets-color: white;\n",
       "                    --jp-widgets-label-color: white;\n",
       "                    --jp-ui-font-color1: white;\n",
       "                    --jp-layout-color2: #454545;\n",
       "                    background-color: #383838;\n",
       "                }\n",
       "\n",
       "                .geemap-dark .jupyter-button {\n",
       "                    --jp-layout-color3: #383838;\n",
       "                }\n",
       "\n",
       "                .geemap-colab {\n",
       "                    background-color: var(--colab-primary-surface-color, white);\n",
       "                }\n",
       "\n",
       "                .geemap-colab .jupyter-button {\n",
       "                    --jp-layout-color3: var(--colab-primary-surface-color, white);\n",
       "                }\n",
       "            </style>\n",
       "            "
      ],
      "text/plain": [
       "<IPython.core.display.HTML object>"
      ]
     },
     "metadata": {},
     "output_type": "display_data"
    }
   ],
   "source": [
    "# band name for classification\n",
    "map_band = 'classification'\n",
    "tnt_band = 'FNF_2020'\n",
    "#map_band = 'FNF_2020'\n",
    "#map_band = 'remapped'"
   ]
  },
  {
   "cell_type": "code",
   "execution_count": 55,
   "id": "d8e5e671-ac09-436c-a517-b71a01fe6ea9",
   "metadata": {},
   "outputs": [
    {
     "data": {
      "text/html": [
       "\n",
       "            <style>\n",
       "                .geemap-dark {\n",
       "                    --jp-widgets-color: white;\n",
       "                    --jp-widgets-label-color: white;\n",
       "                    --jp-ui-font-color1: white;\n",
       "                    --jp-layout-color2: #454545;\n",
       "                    background-color: #383838;\n",
       "                }\n",
       "\n",
       "                .geemap-dark .jupyter-button {\n",
       "                    --jp-layout-color3: #383838;\n",
       "                }\n",
       "\n",
       "                .geemap-colab {\n",
       "                    background-color: var(--colab-primary-surface-color, white);\n",
       "                }\n",
       "\n",
       "                .geemap-colab .jupyter-button {\n",
       "                    --jp-layout-color3: var(--colab-primary-surface-color, white);\n",
       "                }\n",
       "            </style>\n",
       "            "
      ],
      "text/plain": [
       "<IPython.core.display.HTML object>"
      ]
     },
     "metadata": {},
     "output_type": "display_data"
    }
   ],
   "source": [
    "# list of class codes\n",
    "labels = [11,12,13,14,15,21,22,30,41,42,50,60]\n",
    "#labels = [10,20,30,40,50,60]\n",
    "#labels = [0,1]"
   ]
  },
  {
   "cell_type": "code",
   "execution_count": 56,
   "id": "be7e954c-c1b0-4ac5-9c4e-ecd273040f6d",
   "metadata": {},
   "outputs": [
    {
     "data": {
      "text/html": [
       "\n",
       "            <style>\n",
       "                .geemap-dark {\n",
       "                    --jp-widgets-color: white;\n",
       "                    --jp-widgets-label-color: white;\n",
       "                    --jp-ui-font-color1: white;\n",
       "                    --jp-layout-color2: #454545;\n",
       "                    background-color: #383838;\n",
       "                }\n",
       "\n",
       "                .geemap-dark .jupyter-button {\n",
       "                    --jp-layout-color3: #383838;\n",
       "                }\n",
       "\n",
       "                .geemap-colab {\n",
       "                    background-color: var(--colab-primary-surface-color, white);\n",
       "                }\n",
       "\n",
       "                .geemap-colab .jupyter-button {\n",
       "                    --jp-layout-color3: var(--colab-primary-surface-color, white);\n",
       "                }\n",
       "            </style>\n",
       "            "
      ],
      "text/plain": [
       "<IPython.core.display.HTML object>"
      ]
     },
     "metadata": {},
     "output_type": "display_data"
    },
    {
     "data": {
      "text/plain": [
       "Index(['index', 'plotid', 'sampleid', 'sample_internal_id', 'lon', 'lat',\n",
       "       'flagged', 'collection_time', 'sample_geom', 'pl_index', 'pl_jrcmap',\n",
       "       'pl_tcc', 'IPCC_Ref', 'FType_2020_Ref', 'AgType_2020_Ref',\n",
       "       'HumType_2020_Ref', 'collection', 'interpreted', 'IPCC_2020_Code_Ref',\n",
       "       'FNF_2020_Ref', 'FType_2020_Code_Ref', 'AgType_2020_Code_Ref',\n",
       "       'HumType_2020_Code_Ref', 'LC_2020_Code_Ref'],\n",
       "      dtype='object')"
      ]
     },
     "execution_count": 56,
     "metadata": {},
     "output_type": "execute_result"
    }
   ],
   "source": [
    "# CEO data\n",
    "interpretedData = pd.read_csv('/home/sepal-user/COCAFORI/CMR_LC_validated.csv', low_memory=False)\n",
    "interpretedData.columns"
   ]
  },
  {
   "cell_type": "code",
   "execution_count": 57,
   "id": "dab3a8f3-f8af-472d-a88d-2d698f7d8f76",
   "metadata": {},
   "outputs": [
    {
     "data": {
      "text/html": [
       "\n",
       "            <style>\n",
       "                .geemap-dark {\n",
       "                    --jp-widgets-color: white;\n",
       "                    --jp-widgets-label-color: white;\n",
       "                    --jp-ui-font-color1: white;\n",
       "                    --jp-layout-color2: #454545;\n",
       "                    background-color: #383838;\n",
       "                }\n",
       "\n",
       "                .geemap-dark .jupyter-button {\n",
       "                    --jp-layout-color3: #383838;\n",
       "                }\n",
       "\n",
       "                .geemap-colab {\n",
       "                    background-color: var(--colab-primary-surface-color, white);\n",
       "                }\n",
       "\n",
       "                .geemap-colab .jupyter-button {\n",
       "                    --jp-layout-color3: var(--colab-primary-surface-color, white);\n",
       "                }\n",
       "            </style>\n",
       "            "
      ],
      "text/plain": [
       "<IPython.core.display.HTML object>"
      ]
     },
     "metadata": {},
     "output_type": "display_data"
    },
    {
     "data": {
      "text/plain": [
       "2417"
      ]
     },
     "execution_count": 57,
     "metadata": {},
     "output_type": "execute_result"
    }
   ],
   "source": [
    "len(interpretedData)"
   ]
  },
  {
   "cell_type": "code",
   "execution_count": 58,
   "id": "9b022b74-9fc7-4158-8fd4-ee84c7fddecb",
   "metadata": {},
   "outputs": [
    {
     "data": {
      "text/html": [
       "\n",
       "            <style>\n",
       "                .geemap-dark {\n",
       "                    --jp-widgets-color: white;\n",
       "                    --jp-widgets-label-color: white;\n",
       "                    --jp-ui-font-color1: white;\n",
       "                    --jp-layout-color2: #454545;\n",
       "                    background-color: #383838;\n",
       "                }\n",
       "\n",
       "                .geemap-dark .jupyter-button {\n",
       "                    --jp-layout-color3: #383838;\n",
       "                }\n",
       "\n",
       "                .geemap-colab {\n",
       "                    background-color: var(--colab-primary-surface-color, white);\n",
       "                }\n",
       "\n",
       "                .geemap-colab .jupyter-button {\n",
       "                    --jp-layout-color3: var(--colab-primary-surface-color, white);\n",
       "                }\n",
       "            </style>\n",
       "            "
      ],
      "text/plain": [
       "<IPython.core.display.HTML object>"
      ]
     },
     "metadata": {},
     "output_type": "display_data"
    }
   ],
   "source": [
    "# column with LC code\n",
    "ref_column = 'LC_2020_Code_Ref'\n",
    "#ref_column = 'GIEC_2020_Code_Ref'\n",
    "#ref_column = 'FNF_2020_Ref'"
   ]
  },
  {
   "cell_type": "code",
   "execution_count": 59,
   "id": "03a962d9-ef53-4fac-8a77-0ff7940764fa",
   "metadata": {},
   "outputs": [
    {
     "data": {
      "text/html": [
       "\n",
       "            <style>\n",
       "                .geemap-dark {\n",
       "                    --jp-widgets-color: white;\n",
       "                    --jp-widgets-label-color: white;\n",
       "                    --jp-ui-font-color1: white;\n",
       "                    --jp-layout-color2: #454545;\n",
       "                    background-color: #383838;\n",
       "                }\n",
       "\n",
       "                .geemap-dark .jupyter-button {\n",
       "                    --jp-layout-color3: #383838;\n",
       "                }\n",
       "\n",
       "                .geemap-colab {\n",
       "                    background-color: var(--colab-primary-surface-color, white);\n",
       "                }\n",
       "\n",
       "                .geemap-colab .jupyter-button {\n",
       "                    --jp-layout-color3: var(--colab-primary-surface-color, white);\n",
       "                }\n",
       "            </style>\n",
       "            "
      ],
      "text/plain": [
       "<IPython.core.display.HTML object>"
      ]
     },
     "metadata": {},
     "output_type": "display_data"
    }
   ],
   "source": [
    "# name out class area outputs file\n",
    "#area_out = '/home/sepal-user/COCAFORI/CMR_2020_GIEC_types_areas.csv'\n",
    "area_out = '/home/sepal-user/COCAFORI/CMR_2020_LC_types_areas.csv'"
   ]
  },
  {
   "cell_type": "code",
   "execution_count": 60,
   "id": "bc3aad05-db54-46a0-9c85-3b857913afcd",
   "metadata": {},
   "outputs": [
    {
     "data": {
      "text/html": [
       "\n",
       "            <style>\n",
       "                .geemap-dark {\n",
       "                    --jp-widgets-color: white;\n",
       "                    --jp-widgets-label-color: white;\n",
       "                    --jp-ui-font-color1: white;\n",
       "                    --jp-layout-color2: #454545;\n",
       "                    background-color: #383838;\n",
       "                }\n",
       "\n",
       "                .geemap-dark .jupyter-button {\n",
       "                    --jp-layout-color3: #383838;\n",
       "                }\n",
       "\n",
       "                .geemap-colab {\n",
       "                    background-color: var(--colab-primary-surface-color, white);\n",
       "                }\n",
       "\n",
       "                .geemap-colab .jupyter-button {\n",
       "                    --jp-layout-color3: var(--colab-primary-surface-color, white);\n",
       "                }\n",
       "            </style>\n",
       "            "
      ],
      "text/plain": [
       "<IPython.core.display.HTML object>"
      ]
     },
     "metadata": {},
     "output_type": "display_data"
    }
   ],
   "source": [
    "#name of output file with reference and map data\n",
    "#table_out = '/home/sepal-user/COCAFORI/CMR_2020_GIEC_types_ceo.csv'\n",
    "table_out = '/home/sepal-user/COCAFORI/CMR_2020_LC_types_ceo.csv'"
   ]
  },
  {
   "cell_type": "code",
   "execution_count": 61,
   "id": "b9030ab7-4118-4f04-b2fb-f1ce0999243b",
   "metadata": {},
   "outputs": [
    {
     "data": {
      "text/html": [
       "\n",
       "            <style>\n",
       "                .geemap-dark {\n",
       "                    --jp-widgets-color: white;\n",
       "                    --jp-widgets-label-color: white;\n",
       "                    --jp-ui-font-color1: white;\n",
       "                    --jp-layout-color2: #454545;\n",
       "                    background-color: #383838;\n",
       "                }\n",
       "\n",
       "                .geemap-dark .jupyter-button {\n",
       "                    --jp-layout-color3: #383838;\n",
       "                }\n",
       "\n",
       "                .geemap-colab {\n",
       "                    background-color: var(--colab-primary-surface-color, white);\n",
       "                }\n",
       "\n",
       "                .geemap-colab .jupyter-button {\n",
       "                    --jp-layout-color3: var(--colab-primary-surface-color, white);\n",
       "                }\n",
       "            </style>\n",
       "            "
      ],
      "text/plain": [
       "<IPython.core.display.HTML object>"
      ]
     },
     "metadata": {},
     "output_type": "display_data"
    }
   ],
   "source": [
    "#name of output error matrix\n",
    "#matrix_out = '/home/sepal-user/COCAFORI/CMR_2020_LC_types_ref_val_matrix.csv'"
   ]
  },
  {
   "cell_type": "markdown",
   "id": "33812e55-3f0f-4e68-a6ec-7d11dcc8b7aa",
   "metadata": {},
   "source": [
    "### 2 - Get map areas"
   ]
  },
  {
   "cell_type": "code",
   "execution_count": 62,
   "id": "9a71bcdf-4eb2-4339-911e-e1fc0f3f43b0",
   "metadata": {},
   "outputs": [
    {
     "data": {
      "text/html": [
       "\n",
       "            <style>\n",
       "                .geemap-dark {\n",
       "                    --jp-widgets-color: white;\n",
       "                    --jp-widgets-label-color: white;\n",
       "                    --jp-ui-font-color1: white;\n",
       "                    --jp-layout-color2: #454545;\n",
       "                    background-color: #383838;\n",
       "                }\n",
       "\n",
       "                .geemap-dark .jupyter-button {\n",
       "                    --jp-layout-color3: #383838;\n",
       "                }\n",
       "\n",
       "                .geemap-colab {\n",
       "                    background-color: var(--colab-primary-surface-color, white);\n",
       "                }\n",
       "\n",
       "                .geemap-colab .jupyter-button {\n",
       "                    --jp-layout-color3: var(--colab-primary-surface-color, white);\n",
       "                }\n",
       "            </style>\n",
       "            "
      ],
      "text/plain": [
       "<IPython.core.display.HTML object>"
      ]
     },
     "metadata": {},
     "output_type": "display_data"
    }
   ],
   "source": [
    "aoi = ee.FeatureCollection('projects/ee-cocoacmr/assets/admin/cmr_admbnda_adm0')"
   ]
  },
  {
   "cell_type": "code",
   "execution_count": 63,
   "id": "d4398d59-eee1-4dc3-85a8-f88857dacf60",
   "metadata": {},
   "outputs": [
    {
     "data": {
      "text/html": [
       "\n",
       "            <style>\n",
       "                .geemap-dark {\n",
       "                    --jp-widgets-color: white;\n",
       "                    --jp-widgets-label-color: white;\n",
       "                    --jp-ui-font-color1: white;\n",
       "                    --jp-layout-color2: #454545;\n",
       "                    background-color: #383838;\n",
       "                }\n",
       "\n",
       "                .geemap-dark .jupyter-button {\n",
       "                    --jp-layout-color3: #383838;\n",
       "                }\n",
       "\n",
       "                .geemap-colab {\n",
       "                    background-color: var(--colab-primary-surface-color, white);\n",
       "                }\n",
       "\n",
       "                .geemap-colab .jupyter-button {\n",
       "                    --jp-layout-color3: var(--colab-primary-surface-color, white);\n",
       "                }\n",
       "            </style>\n",
       "            "
      ],
      "text/plain": [
       "<IPython.core.display.HTML object>"
      ]
     },
     "metadata": {},
     "output_type": "display_data"
    }
   ],
   "source": [
    "# Add the area for each pixel\n",
    "pixelArea = ee.Image.pixelArea().clip(aoi)\n",
    "# Multiply pixel area by the class to get the area per class\n",
    "area_image = pixelArea.addBands(classified_image)"
   ]
  },
  {
   "cell_type": "code",
   "execution_count": 64,
   "id": "1c57fb7e-6614-492c-b465-73c1aa3e33db",
   "metadata": {},
   "outputs": [
    {
     "data": {
      "text/html": [
       "\n",
       "            <style>\n",
       "                .geemap-dark {\n",
       "                    --jp-widgets-color: white;\n",
       "                    --jp-widgets-label-color: white;\n",
       "                    --jp-ui-font-color1: white;\n",
       "                    --jp-layout-color2: #454545;\n",
       "                    background-color: #383838;\n",
       "                }\n",
       "\n",
       "                .geemap-dark .jupyter-button {\n",
       "                    --jp-layout-color3: #383838;\n",
       "                }\n",
       "\n",
       "                .geemap-colab {\n",
       "                    background-color: var(--colab-primary-surface-color, white);\n",
       "                }\n",
       "\n",
       "                .geemap-colab .jupyter-button {\n",
       "                    --jp-layout-color3: var(--colab-primary-surface-color, white);\n",
       "                }\n",
       "            </style>\n",
       "            "
      ],
      "text/plain": [
       "<IPython.core.display.HTML object>"
      ]
     },
     "metadata": {},
     "output_type": "display_data"
    }
   ],
   "source": [
    "# Reduce the region by summing up the areas per class\n",
    "class_areas = area_image.reduceRegion(\n",
    "    reducer=ee.Reducer.sum().group(groupField=1, groupName='class'),\n",
    "    geometry=classified_image.geometry(),\n",
    "    scale=30,  # Adjust scale according to your image resolution\n",
    "    maxPixels=1e12\n",
    ")"
   ]
  },
  {
   "cell_type": "code",
   "execution_count": 65,
   "id": "4ea5b043-df96-499b-abbf-c192753225f1",
   "metadata": {},
   "outputs": [
    {
     "data": {
      "text/html": [
       "\n",
       "            <style>\n",
       "                .geemap-dark {\n",
       "                    --jp-widgets-color: white;\n",
       "                    --jp-widgets-label-color: white;\n",
       "                    --jp-ui-font-color1: white;\n",
       "                    --jp-layout-color2: #454545;\n",
       "                    background-color: #383838;\n",
       "                }\n",
       "\n",
       "                .geemap-dark .jupyter-button {\n",
       "                    --jp-layout-color3: #383838;\n",
       "                }\n",
       "\n",
       "                .geemap-colab {\n",
       "                    background-color: var(--colab-primary-surface-color, white);\n",
       "                }\n",
       "\n",
       "                .geemap-colab .jupyter-button {\n",
       "                    --jp-layout-color3: var(--colab-primary-surface-color, white);\n",
       "                }\n",
       "            </style>\n",
       "            "
      ],
      "text/plain": [
       "<IPython.core.display.HTML object>"
      ]
     },
     "metadata": {},
     "output_type": "display_data"
    },
    {
     "name": "stdout",
     "output_type": "stream",
     "text": [
      "    Class    Area (ha)\n",
      "0      11 28403233.699\n",
      "1      12  2742752.498\n",
      "2      13   885915.208\n",
      "3      14   215783.150\n",
      "4      15  1709811.708\n",
      "5      21   129177.988\n",
      "6      22  3567665.134\n",
      "7      30  6740626.276\n",
      "8      41   459701.718\n",
      "9      42   348718.992\n",
      "10     50   239969.614\n",
      "11     60  1144214.324\n"
     ]
    }
   ],
   "source": [
    "# Assuming class_areas is already defined and contains the necessary data\n",
    "class_areas_dict = class_areas.getInfo()\n",
    "\n",
    "# Prepare the data for the DataFrame\n",
    "data = []\n",
    "for item in class_areas_dict['groups']:\n",
    "    area_ha = item['sum'] / 10000  # Convert square meters to hectares\n",
    "    data.append({\n",
    "        'Class': item['class'],\n",
    "        'Area (ha)': area_ha\n",
    "    })\n",
    "\n",
    "# Convert the list of dictionaries to a DataFrame\n",
    "areas_df = pd.DataFrame(data)\n",
    "\n",
    "# Display the DataFrame\n",
    "print(areas_df)"
   ]
  },
  {
   "cell_type": "markdown",
   "id": "63508a96-50fe-4be5-a572-da44b70c6f63",
   "metadata": {},
   "source": [
    "### 3 - sample map with validation points "
   ]
  },
  {
   "cell_type": "code",
   "execution_count": 66,
   "id": "1ed9a3a7-d703-42bc-8ed6-cc2d92065239",
   "metadata": {},
   "outputs": [
    {
     "data": {
      "text/html": [
       "\n",
       "            <style>\n",
       "                .geemap-dark {\n",
       "                    --jp-widgets-color: white;\n",
       "                    --jp-widgets-label-color: white;\n",
       "                    --jp-ui-font-color1: white;\n",
       "                    --jp-layout-color2: #454545;\n",
       "                    background-color: #383838;\n",
       "                }\n",
       "\n",
       "                .geemap-dark .jupyter-button {\n",
       "                    --jp-layout-color3: #383838;\n",
       "                }\n",
       "\n",
       "                .geemap-colab {\n",
       "                    background-color: var(--colab-primary-surface-color, white);\n",
       "                }\n",
       "\n",
       "                .geemap-colab .jupyter-button {\n",
       "                    --jp-layout-color3: var(--colab-primary-surface-color, white);\n",
       "                }\n",
       "            </style>\n",
       "            "
      ],
      "text/plain": [
       "<IPython.core.display.HTML object>"
      ]
     },
     "metadata": {},
     "output_type": "display_data"
    },
    {
     "data": {
      "text/html": [
       "<div>\n",
       "<style scoped>\n",
       "    .dataframe tbody tr th:only-of-type {\n",
       "        vertical-align: middle;\n",
       "    }\n",
       "\n",
       "    .dataframe tbody tr th {\n",
       "        vertical-align: top;\n",
       "    }\n",
       "\n",
       "    .dataframe thead th {\n",
       "        text-align: right;\n",
       "    }\n",
       "</style>\n",
       "<table border=\"1\" class=\"dataframe\">\n",
       "  <thead>\n",
       "    <tr style=\"text-align: right;\">\n",
       "      <th></th>\n",
       "      <th>index</th>\n",
       "      <th>plotid</th>\n",
       "      <th>sampleid</th>\n",
       "      <th>collection</th>\n",
       "      <th>FNF_2020_Ref</th>\n",
       "      <th>LC_2020_Code_Ref</th>\n",
       "      <th>lon</th>\n",
       "      <th>lat</th>\n",
       "      <th>geometry</th>\n",
       "    </tr>\n",
       "  </thead>\n",
       "  <tbody>\n",
       "    <tr>\n",
       "      <th>0</th>\n",
       "      <td>0</td>\n",
       "      <td>4</td>\n",
       "      <td>4</td>\n",
       "      <td>1</td>\n",
       "      <td>1</td>\n",
       "      <td>12</td>\n",
       "      <td>14.299</td>\n",
       "      <td>7.777</td>\n",
       "      <td>POINT (14.29857 7.77672)</td>\n",
       "    </tr>\n",
       "    <tr>\n",
       "      <th>1</th>\n",
       "      <td>1</td>\n",
       "      <td>2</td>\n",
       "      <td>2</td>\n",
       "      <td>1</td>\n",
       "      <td>0</td>\n",
       "      <td>30</td>\n",
       "      <td>13.157</td>\n",
       "      <td>9.445</td>\n",
       "      <td>POINT (13.15682 9.44489)</td>\n",
       "    </tr>\n",
       "    <tr>\n",
       "      <th>2</th>\n",
       "      <td>2</td>\n",
       "      <td>6</td>\n",
       "      <td>6</td>\n",
       "      <td>1</td>\n",
       "      <td>0</td>\n",
       "      <td>30</td>\n",
       "      <td>13.760</td>\n",
       "      <td>8.647</td>\n",
       "      <td>POINT (13.75959 8.64718)</td>\n",
       "    </tr>\n",
       "    <tr>\n",
       "      <th>3</th>\n",
       "      <td>3</td>\n",
       "      <td>7</td>\n",
       "      <td>7</td>\n",
       "      <td>1</td>\n",
       "      <td>0</td>\n",
       "      <td>30</td>\n",
       "      <td>14.741</td>\n",
       "      <td>11.144</td>\n",
       "      <td>POINT (14.74055 11.1445)</td>\n",
       "    </tr>\n",
       "    <tr>\n",
       "      <th>4</th>\n",
       "      <td>4</td>\n",
       "      <td>8</td>\n",
       "      <td>8</td>\n",
       "      <td>1</td>\n",
       "      <td>1</td>\n",
       "      <td>11</td>\n",
       "      <td>13.101</td>\n",
       "      <td>4.403</td>\n",
       "      <td>POINT (13.10112 4.40264)</td>\n",
       "    </tr>\n",
       "    <tr>\n",
       "      <th>...</th>\n",
       "      <td>...</td>\n",
       "      <td>...</td>\n",
       "      <td>...</td>\n",
       "      <td>...</td>\n",
       "      <td>...</td>\n",
       "      <td>...</td>\n",
       "      <td>...</td>\n",
       "      <td>...</td>\n",
       "      <td>...</td>\n",
       "    </tr>\n",
       "    <tr>\n",
       "      <th>2412</th>\n",
       "      <td>2412</td>\n",
       "      <td>1994</td>\n",
       "      <td>1994</td>\n",
       "      <td>6</td>\n",
       "      <td>0</td>\n",
       "      <td>22</td>\n",
       "      <td>14.563</td>\n",
       "      <td>11.449</td>\n",
       "      <td>POINT (14.5629 11.44925)</td>\n",
       "    </tr>\n",
       "    <tr>\n",
       "      <th>2413</th>\n",
       "      <td>2413</td>\n",
       "      <td>1927</td>\n",
       "      <td>1927</td>\n",
       "      <td>6</td>\n",
       "      <td>0</td>\n",
       "      <td>22</td>\n",
       "      <td>13.865</td>\n",
       "      <td>10.371</td>\n",
       "      <td>POINT (13.86491 10.37083)</td>\n",
       "    </tr>\n",
       "    <tr>\n",
       "      <th>2414</th>\n",
       "      <td>2414</td>\n",
       "      <td>1985</td>\n",
       "      <td>1985</td>\n",
       "      <td>6</td>\n",
       "      <td>0</td>\n",
       "      <td>22</td>\n",
       "      <td>13.137</td>\n",
       "      <td>9.016</td>\n",
       "      <td>POINT (13.13737 9.01635)</td>\n",
       "    </tr>\n",
       "    <tr>\n",
       "      <th>2415</th>\n",
       "      <td>2415</td>\n",
       "      <td>1920</td>\n",
       "      <td>1920</td>\n",
       "      <td>6</td>\n",
       "      <td>1</td>\n",
       "      <td>15</td>\n",
       "      <td>11.046</td>\n",
       "      <td>4.097</td>\n",
       "      <td>POINT (11.04591 4.09708)</td>\n",
       "    </tr>\n",
       "    <tr>\n",
       "      <th>2416</th>\n",
       "      <td>2416</td>\n",
       "      <td>1922</td>\n",
       "      <td>1922</td>\n",
       "      <td>6</td>\n",
       "      <td>1</td>\n",
       "      <td>11</td>\n",
       "      <td>13.964</td>\n",
       "      <td>4.615</td>\n",
       "      <td>POINT (13.96427 4.6146)</td>\n",
       "    </tr>\n",
       "  </tbody>\n",
       "</table>\n",
       "<p>2417 rows × 9 columns</p>\n",
       "</div>"
      ],
      "text/plain": [
       "      index  plotid  sampleid  collection  FNF_2020_Ref  LC_2020_Code_Ref  \\\n",
       "0         0       4         4           1             1                12   \n",
       "1         1       2         2           1             0                30   \n",
       "2         2       6         6           1             0                30   \n",
       "3         3       7         7           1             0                30   \n",
       "4         4       8         8           1             1                11   \n",
       "...     ...     ...       ...         ...           ...               ...   \n",
       "2412   2412    1994      1994           6             0                22   \n",
       "2413   2413    1927      1927           6             0                22   \n",
       "2414   2414    1985      1985           6             0                22   \n",
       "2415   2415    1920      1920           6             1                15   \n",
       "2416   2416    1922      1922           6             1                11   \n",
       "\n",
       "        lon    lat                   geometry  \n",
       "0    14.299  7.777   POINT (14.29857 7.77672)  \n",
       "1    13.157  9.445   POINT (13.15682 9.44489)  \n",
       "2    13.760  8.647   POINT (13.75959 8.64718)  \n",
       "3    14.741 11.144   POINT (14.74055 11.1445)  \n",
       "4    13.101  4.403   POINT (13.10112 4.40264)  \n",
       "...     ...    ...                        ...  \n",
       "2412 14.563 11.449   POINT (14.5629 11.44925)  \n",
       "2413 13.865 10.371  POINT (13.86491 10.37083)  \n",
       "2414 13.137  9.016   POINT (13.13737 9.01635)  \n",
       "2415 11.046  4.097   POINT (11.04591 4.09708)  \n",
       "2416 13.964  4.615    POINT (13.96427 4.6146)  \n",
       "\n",
       "[2417 rows x 9 columns]"
      ]
     },
     "execution_count": 66,
     "metadata": {},
     "output_type": "execute_result"
    }
   ],
   "source": [
    "gdf = gpd.GeoDataFrame(interpretedData[['index', 'plotid', 'sampleid', 'collection', 'FNF_2020_Ref',ref_column, 'lon', 'lat']], geometry=gpd.points_from_xy(interpretedData.lon, interpretedData.lat), crs='epsg:4326')\n",
    "gdf"
   ]
  },
  {
   "cell_type": "markdown",
   "id": "6a52b711-a766-4278-89f8-43edcbdd6d74",
   "metadata": {},
   "source": [
    "##### be patient this can take a while with a large number of points"
   ]
  },
  {
   "cell_type": "code",
   "execution_count": 67,
   "id": "75bfbec5-7852-4b2a-a3a1-03221a4c7c3d",
   "metadata": {},
   "outputs": [
    {
     "data": {
      "text/html": [
       "\n",
       "            <style>\n",
       "                .geemap-dark {\n",
       "                    --jp-widgets-color: white;\n",
       "                    --jp-widgets-label-color: white;\n",
       "                    --jp-ui-font-color1: white;\n",
       "                    --jp-layout-color2: #454545;\n",
       "                    background-color: #383838;\n",
       "                }\n",
       "\n",
       "                .geemap-dark .jupyter-button {\n",
       "                    --jp-layout-color3: #383838;\n",
       "                }\n",
       "\n",
       "                .geemap-colab {\n",
       "                    background-color: var(--colab-primary-surface-color, white);\n",
       "                }\n",
       "\n",
       "                .geemap-colab .jupyter-button {\n",
       "                    --jp-layout-color3: var(--colab-primary-surface-color, white);\n",
       "                }\n",
       "            </style>\n",
       "            "
      ],
      "text/plain": [
       "<IPython.core.display.HTML object>"
      ]
     },
     "metadata": {},
     "output_type": "display_data"
    }
   ],
   "source": [
    "dfs = []\n",
    "for i in range(0, len(interpretedData), 5000):\n",
    "    tmp_df = gdf.loc[i:i+4999]\n",
    "    tmp_fc = geemap.gdf_to_ee(tmp_df[['index','plotid', 'sampleid', 'collection','FNF_2020_Ref', ref_column, 'geometry']])\n",
    "    tmp_smp = classified_image.select(map_band).reduceRegions(**{\n",
    "        'collection': tmp_fc,\n",
    "        'scale': scale,\n",
    "        'reducer': ee.Reducer.first()   \n",
    "    })\n",
    "\n",
    "    tmp_res = geemap.ee_to_gdf(tmp_smp)\n",
    "    dfs.append(tmp_res)\n",
    "    \n",
    "results_df = pd.concat(dfs)"
   ]
  },
  {
   "cell_type": "code",
   "execution_count": 68,
   "id": "3eebdd06-5a18-4b0c-895b-c466ca08baa9",
   "metadata": {},
   "outputs": [
    {
     "data": {
      "text/html": [
       "\n",
       "            <style>\n",
       "                .geemap-dark {\n",
       "                    --jp-widgets-color: white;\n",
       "                    --jp-widgets-label-color: white;\n",
       "                    --jp-ui-font-color1: white;\n",
       "                    --jp-layout-color2: #454545;\n",
       "                    background-color: #383838;\n",
       "                }\n",
       "\n",
       "                .geemap-dark .jupyter-button {\n",
       "                    --jp-layout-color3: #383838;\n",
       "                }\n",
       "\n",
       "                .geemap-colab {\n",
       "                    background-color: var(--colab-primary-surface-color, white);\n",
       "                }\n",
       "\n",
       "                .geemap-colab .jupyter-button {\n",
       "                    --jp-layout-color3: var(--colab-primary-surface-color, white);\n",
       "                }\n",
       "            </style>\n",
       "            "
      ],
      "text/plain": [
       "<IPython.core.display.HTML object>"
      ]
     },
     "metadata": {},
     "output_type": "display_data"
    },
    {
     "data": {
      "text/html": [
       "<div>\n",
       "<style scoped>\n",
       "    .dataframe tbody tr th:only-of-type {\n",
       "        vertical-align: middle;\n",
       "    }\n",
       "\n",
       "    .dataframe tbody tr th {\n",
       "        vertical-align: top;\n",
       "    }\n",
       "\n",
       "    .dataframe thead th {\n",
       "        text-align: right;\n",
       "    }\n",
       "</style>\n",
       "<table border=\"1\" class=\"dataframe\">\n",
       "  <thead>\n",
       "    <tr style=\"text-align: right;\">\n",
       "      <th></th>\n",
       "      <th>geometry</th>\n",
       "      <th>FNF_2020_Ref</th>\n",
       "      <th>LC_2020_Code_Ref</th>\n",
       "      <th>collection</th>\n",
       "      <th>LC_2020_Code_Map</th>\n",
       "      <th>index</th>\n",
       "      <th>plotid</th>\n",
       "      <th>sampleid</th>\n",
       "    </tr>\n",
       "  </thead>\n",
       "  <tbody>\n",
       "    <tr>\n",
       "      <th>0</th>\n",
       "      <td>POINT (14.29857 7.77672)</td>\n",
       "      <td>1</td>\n",
       "      <td>12</td>\n",
       "      <td>1</td>\n",
       "      <td>11</td>\n",
       "      <td>0</td>\n",
       "      <td>4</td>\n",
       "      <td>4</td>\n",
       "    </tr>\n",
       "    <tr>\n",
       "      <th>1</th>\n",
       "      <td>POINT (13.15682 9.44489)</td>\n",
       "      <td>0</td>\n",
       "      <td>30</td>\n",
       "      <td>1</td>\n",
       "      <td>30</td>\n",
       "      <td>1</td>\n",
       "      <td>2</td>\n",
       "      <td>2</td>\n",
       "    </tr>\n",
       "    <tr>\n",
       "      <th>2</th>\n",
       "      <td>POINT (13.75959 8.64718)</td>\n",
       "      <td>0</td>\n",
       "      <td>30</td>\n",
       "      <td>1</td>\n",
       "      <td>30</td>\n",
       "      <td>2</td>\n",
       "      <td>6</td>\n",
       "      <td>6</td>\n",
       "    </tr>\n",
       "    <tr>\n",
       "      <th>3</th>\n",
       "      <td>POINT (14.74055 11.1445)</td>\n",
       "      <td>0</td>\n",
       "      <td>30</td>\n",
       "      <td>1</td>\n",
       "      <td>30</td>\n",
       "      <td>3</td>\n",
       "      <td>7</td>\n",
       "      <td>7</td>\n",
       "    </tr>\n",
       "    <tr>\n",
       "      <th>4</th>\n",
       "      <td>POINT (13.10112 4.40264)</td>\n",
       "      <td>1</td>\n",
       "      <td>11</td>\n",
       "      <td>1</td>\n",
       "      <td>11</td>\n",
       "      <td>4</td>\n",
       "      <td>8</td>\n",
       "      <td>8</td>\n",
       "    </tr>\n",
       "    <tr>\n",
       "      <th>...</th>\n",
       "      <td>...</td>\n",
       "      <td>...</td>\n",
       "      <td>...</td>\n",
       "      <td>...</td>\n",
       "      <td>...</td>\n",
       "      <td>...</td>\n",
       "      <td>...</td>\n",
       "      <td>...</td>\n",
       "    </tr>\n",
       "    <tr>\n",
       "      <th>2412</th>\n",
       "      <td>POINT (14.5629 11.44925)</td>\n",
       "      <td>0</td>\n",
       "      <td>22</td>\n",
       "      <td>6</td>\n",
       "      <td>41</td>\n",
       "      <td>2412</td>\n",
       "      <td>1994</td>\n",
       "      <td>1994</td>\n",
       "    </tr>\n",
       "    <tr>\n",
       "      <th>2413</th>\n",
       "      <td>POINT (13.86491 10.37083)</td>\n",
       "      <td>0</td>\n",
       "      <td>22</td>\n",
       "      <td>6</td>\n",
       "      <td>22</td>\n",
       "      <td>2413</td>\n",
       "      <td>1927</td>\n",
       "      <td>1927</td>\n",
       "    </tr>\n",
       "    <tr>\n",
       "      <th>2414</th>\n",
       "      <td>POINT (13.13737 9.01635)</td>\n",
       "      <td>0</td>\n",
       "      <td>22</td>\n",
       "      <td>6</td>\n",
       "      <td>22</td>\n",
       "      <td>2414</td>\n",
       "      <td>1985</td>\n",
       "      <td>1985</td>\n",
       "    </tr>\n",
       "    <tr>\n",
       "      <th>2415</th>\n",
       "      <td>POINT (11.04591 4.09708)</td>\n",
       "      <td>1</td>\n",
       "      <td>15</td>\n",
       "      <td>6</td>\n",
       "      <td>11</td>\n",
       "      <td>2415</td>\n",
       "      <td>1920</td>\n",
       "      <td>1920</td>\n",
       "    </tr>\n",
       "    <tr>\n",
       "      <th>2416</th>\n",
       "      <td>POINT (13.96427 4.6146)</td>\n",
       "      <td>1</td>\n",
       "      <td>11</td>\n",
       "      <td>6</td>\n",
       "      <td>11</td>\n",
       "      <td>2416</td>\n",
       "      <td>1922</td>\n",
       "      <td>1922</td>\n",
       "    </tr>\n",
       "  </tbody>\n",
       "</table>\n",
       "<p>2417 rows × 8 columns</p>\n",
       "</div>"
      ],
      "text/plain": [
       "                       geometry  FNF_2020_Ref  LC_2020_Code_Ref  collection  \\\n",
       "0      POINT (14.29857 7.77672)             1                12           1   \n",
       "1      POINT (13.15682 9.44489)             0                30           1   \n",
       "2      POINT (13.75959 8.64718)             0                30           1   \n",
       "3      POINT (14.74055 11.1445)             0                30           1   \n",
       "4      POINT (13.10112 4.40264)             1                11           1   \n",
       "...                         ...           ...               ...         ...   \n",
       "2412   POINT (14.5629 11.44925)             0                22           6   \n",
       "2413  POINT (13.86491 10.37083)             0                22           6   \n",
       "2414   POINT (13.13737 9.01635)             0                22           6   \n",
       "2415   POINT (11.04591 4.09708)             1                15           6   \n",
       "2416    POINT (13.96427 4.6146)             1                11           6   \n",
       "\n",
       "      LC_2020_Code_Map  index  plotid  sampleid  \n",
       "0                   11      0       4         4  \n",
       "1                   30      1       2         2  \n",
       "2                   30      2       6         6  \n",
       "3                   30      3       7         7  \n",
       "4                   11      4       8         8  \n",
       "...                ...    ...     ...       ...  \n",
       "2412                41   2412    1994      1994  \n",
       "2413                22   2413    1927      1927  \n",
       "2414                22   2414    1985      1985  \n",
       "2415                11   2415    1920      1920  \n",
       "2416                11   2416    1922      1922  \n",
       "\n",
       "[2417 rows x 8 columns]"
      ]
     },
     "execution_count": 68,
     "metadata": {},
     "output_type": "execute_result"
    }
   ],
   "source": [
    "#map_column = 'GIEC_2020_Map'\n",
    "map_column = 'LC_2020_Code_Map'\n",
    "#map_column = 'TNT_2020_Map'\n",
    "results_df = results_df.rename(columns={'first':map_column})\n",
    "#results_df = results_df.rename(columns={'first': map_column})\n",
    "results_df"
   ]
  },
  {
   "cell_type": "code",
   "execution_count": 69,
   "id": "1f84b7e2-1538-4f73-9ef5-c69095cd2a2a",
   "metadata": {},
   "outputs": [
    {
     "data": {
      "text/html": [
       "\n",
       "            <style>\n",
       "                .geemap-dark {\n",
       "                    --jp-widgets-color: white;\n",
       "                    --jp-widgets-label-color: white;\n",
       "                    --jp-ui-font-color1: white;\n",
       "                    --jp-layout-color2: #454545;\n",
       "                    background-color: #383838;\n",
       "                }\n",
       "\n",
       "                .geemap-dark .jupyter-button {\n",
       "                    --jp-layout-color3: #383838;\n",
       "                }\n",
       "\n",
       "                .geemap-colab {\n",
       "                    background-color: var(--colab-primary-surface-color, white);\n",
       "                }\n",
       "\n",
       "                .geemap-colab .jupyter-button {\n",
       "                    --jp-layout-color3: var(--colab-primary-surface-color, white);\n",
       "                }\n",
       "            </style>\n",
       "            "
      ],
      "text/plain": [
       "<IPython.core.display.HTML object>"
      ]
     },
     "metadata": {},
     "output_type": "display_data"
    }
   ],
   "source": [
    "dfs1 = []\n",
    "for i in range(0, len(interpretedData), 5000):\n",
    "    tmp_df1 = results_df.loc[i:i+4999]\n",
    "    tmp_fc1 = geemap.gdf_to_ee(tmp_df1[['index', 'plotid', 'sampleid', 'collection','FNF_2020_Ref', 'LC_2020_Code_Ref','LC_2020_Code_Map', 'geometry']])\n",
    "    \n",
    "    tmp_smp1 = tnt_image.select(tnt_band).reduceRegions(**{\n",
    "        'collection': tmp_fc1,\n",
    "        'scale': scale,\n",
    "        'reducer': ee.Reducer.first()   \n",
    "    })\n",
    "\n",
    "    tmp_res1 = geemap.ee_to_gdf(tmp_smp1)\n",
    "    dfs1.append(tmp_res1)\n",
    "\n",
    "results_df2 = pd.concat(dfs1)"
   ]
  },
  {
   "cell_type": "code",
   "execution_count": 70,
   "id": "65e66046-62ea-42c8-a9f1-f12cfd0f7047",
   "metadata": {},
   "outputs": [
    {
     "data": {
      "text/html": [
       "\n",
       "            <style>\n",
       "                .geemap-dark {\n",
       "                    --jp-widgets-color: white;\n",
       "                    --jp-widgets-label-color: white;\n",
       "                    --jp-ui-font-color1: white;\n",
       "                    --jp-layout-color2: #454545;\n",
       "                    background-color: #383838;\n",
       "                }\n",
       "\n",
       "                .geemap-dark .jupyter-button {\n",
       "                    --jp-layout-color3: #383838;\n",
       "                }\n",
       "\n",
       "                .geemap-colab {\n",
       "                    background-color: var(--colab-primary-surface-color, white);\n",
       "                }\n",
       "\n",
       "                .geemap-colab .jupyter-button {\n",
       "                    --jp-layout-color3: var(--colab-primary-surface-color, white);\n",
       "                }\n",
       "            </style>\n",
       "            "
      ],
      "text/plain": [
       "<IPython.core.display.HTML object>"
      ]
     },
     "metadata": {},
     "output_type": "display_data"
    },
    {
     "data": {
      "text/html": [
       "<div>\n",
       "<style scoped>\n",
       "    .dataframe tbody tr th:only-of-type {\n",
       "        vertical-align: middle;\n",
       "    }\n",
       "\n",
       "    .dataframe tbody tr th {\n",
       "        vertical-align: top;\n",
       "    }\n",
       "\n",
       "    .dataframe thead th {\n",
       "        text-align: right;\n",
       "    }\n",
       "</style>\n",
       "<table border=\"1\" class=\"dataframe\">\n",
       "  <thead>\n",
       "    <tr style=\"text-align: right;\">\n",
       "      <th></th>\n",
       "      <th>geometry</th>\n",
       "      <th>FNF_2020_Ref</th>\n",
       "      <th>LC_2020_Code_Map</th>\n",
       "      <th>LC_2020_Code_Ref</th>\n",
       "      <th>collection</th>\n",
       "      <th>FNF_2020_Map</th>\n",
       "      <th>index</th>\n",
       "      <th>plotid</th>\n",
       "      <th>sampleid</th>\n",
       "    </tr>\n",
       "  </thead>\n",
       "  <tbody>\n",
       "    <tr>\n",
       "      <th>0</th>\n",
       "      <td>POINT (14.29857 7.77672)</td>\n",
       "      <td>1</td>\n",
       "      <td>11</td>\n",
       "      <td>12</td>\n",
       "      <td>1</td>\n",
       "      <td>1</td>\n",
       "      <td>0</td>\n",
       "      <td>4</td>\n",
       "      <td>4</td>\n",
       "    </tr>\n",
       "    <tr>\n",
       "      <th>1</th>\n",
       "      <td>POINT (13.15682 9.44489)</td>\n",
       "      <td>0</td>\n",
       "      <td>30</td>\n",
       "      <td>30</td>\n",
       "      <td>1</td>\n",
       "      <td>0</td>\n",
       "      <td>1</td>\n",
       "      <td>2</td>\n",
       "      <td>2</td>\n",
       "    </tr>\n",
       "    <tr>\n",
       "      <th>2</th>\n",
       "      <td>POINT (13.75959 8.64718)</td>\n",
       "      <td>0</td>\n",
       "      <td>30</td>\n",
       "      <td>30</td>\n",
       "      <td>1</td>\n",
       "      <td>0</td>\n",
       "      <td>2</td>\n",
       "      <td>6</td>\n",
       "      <td>6</td>\n",
       "    </tr>\n",
       "    <tr>\n",
       "      <th>3</th>\n",
       "      <td>POINT (14.74055 11.1445)</td>\n",
       "      <td>0</td>\n",
       "      <td>30</td>\n",
       "      <td>30</td>\n",
       "      <td>1</td>\n",
       "      <td>0</td>\n",
       "      <td>3</td>\n",
       "      <td>7</td>\n",
       "      <td>7</td>\n",
       "    </tr>\n",
       "    <tr>\n",
       "      <th>4</th>\n",
       "      <td>POINT (13.10112 4.40264)</td>\n",
       "      <td>1</td>\n",
       "      <td>11</td>\n",
       "      <td>11</td>\n",
       "      <td>1</td>\n",
       "      <td>1</td>\n",
       "      <td>4</td>\n",
       "      <td>8</td>\n",
       "      <td>8</td>\n",
       "    </tr>\n",
       "    <tr>\n",
       "      <th>...</th>\n",
       "      <td>...</td>\n",
       "      <td>...</td>\n",
       "      <td>...</td>\n",
       "      <td>...</td>\n",
       "      <td>...</td>\n",
       "      <td>...</td>\n",
       "      <td>...</td>\n",
       "      <td>...</td>\n",
       "      <td>...</td>\n",
       "    </tr>\n",
       "    <tr>\n",
       "      <th>2412</th>\n",
       "      <td>POINT (14.5629 11.44925)</td>\n",
       "      <td>0</td>\n",
       "      <td>41</td>\n",
       "      <td>22</td>\n",
       "      <td>6</td>\n",
       "      <td>0</td>\n",
       "      <td>2412</td>\n",
       "      <td>1994</td>\n",
       "      <td>1994</td>\n",
       "    </tr>\n",
       "    <tr>\n",
       "      <th>2413</th>\n",
       "      <td>POINT (13.86491 10.37083)</td>\n",
       "      <td>0</td>\n",
       "      <td>22</td>\n",
       "      <td>22</td>\n",
       "      <td>6</td>\n",
       "      <td>0</td>\n",
       "      <td>2413</td>\n",
       "      <td>1927</td>\n",
       "      <td>1927</td>\n",
       "    </tr>\n",
       "    <tr>\n",
       "      <th>2414</th>\n",
       "      <td>POINT (13.13737 9.01635)</td>\n",
       "      <td>0</td>\n",
       "      <td>22</td>\n",
       "      <td>22</td>\n",
       "      <td>6</td>\n",
       "      <td>0</td>\n",
       "      <td>2414</td>\n",
       "      <td>1985</td>\n",
       "      <td>1985</td>\n",
       "    </tr>\n",
       "    <tr>\n",
       "      <th>2415</th>\n",
       "      <td>POINT (11.04591 4.09708)</td>\n",
       "      <td>1</td>\n",
       "      <td>11</td>\n",
       "      <td>15</td>\n",
       "      <td>6</td>\n",
       "      <td>1</td>\n",
       "      <td>2415</td>\n",
       "      <td>1920</td>\n",
       "      <td>1920</td>\n",
       "    </tr>\n",
       "    <tr>\n",
       "      <th>2416</th>\n",
       "      <td>POINT (13.96427 4.6146)</td>\n",
       "      <td>1</td>\n",
       "      <td>11</td>\n",
       "      <td>11</td>\n",
       "      <td>6</td>\n",
       "      <td>1</td>\n",
       "      <td>2416</td>\n",
       "      <td>1922</td>\n",
       "      <td>1922</td>\n",
       "    </tr>\n",
       "  </tbody>\n",
       "</table>\n",
       "<p>2417 rows × 9 columns</p>\n",
       "</div>"
      ],
      "text/plain": [
       "                       geometry  FNF_2020_Ref  LC_2020_Code_Map  \\\n",
       "0      POINT (14.29857 7.77672)             1                11   \n",
       "1      POINT (13.15682 9.44489)             0                30   \n",
       "2      POINT (13.75959 8.64718)             0                30   \n",
       "3      POINT (14.74055 11.1445)             0                30   \n",
       "4      POINT (13.10112 4.40264)             1                11   \n",
       "...                         ...           ...               ...   \n",
       "2412   POINT (14.5629 11.44925)             0                41   \n",
       "2413  POINT (13.86491 10.37083)             0                22   \n",
       "2414   POINT (13.13737 9.01635)             0                22   \n",
       "2415   POINT (11.04591 4.09708)             1                11   \n",
       "2416    POINT (13.96427 4.6146)             1                11   \n",
       "\n",
       "      LC_2020_Code_Ref  collection  FNF_2020_Map  index  plotid  sampleid  \n",
       "0                   12           1             1      0       4         4  \n",
       "1                   30           1             0      1       2         2  \n",
       "2                   30           1             0      2       6         6  \n",
       "3                   30           1             0      3       7         7  \n",
       "4                   11           1             1      4       8         8  \n",
       "...                ...         ...           ...    ...     ...       ...  \n",
       "2412                22           6             0   2412    1994      1994  \n",
       "2413                22           6             0   2413    1927      1927  \n",
       "2414                22           6             0   2414    1985      1985  \n",
       "2415                15           6             1   2415    1920      1920  \n",
       "2416                11           6             1   2416    1922      1922  \n",
       "\n",
       "[2417 rows x 9 columns]"
      ]
     },
     "execution_count": 70,
     "metadata": {},
     "output_type": "execute_result"
    }
   ],
   "source": [
    "results_df = results_df2.rename(columns={'first':'FNF_2020_Map'})\n",
    "results_df"
   ]
  },
  {
   "cell_type": "code",
   "execution_count": 71,
   "id": "cd127e33-f710-4378-be16-807dae211a7a",
   "metadata": {},
   "outputs": [
    {
     "data": {
      "text/html": [
       "\n",
       "            <style>\n",
       "                .geemap-dark {\n",
       "                    --jp-widgets-color: white;\n",
       "                    --jp-widgets-label-color: white;\n",
       "                    --jp-ui-font-color1: white;\n",
       "                    --jp-layout-color2: #454545;\n",
       "                    background-color: #383838;\n",
       "                }\n",
       "\n",
       "                .geemap-dark .jupyter-button {\n",
       "                    --jp-layout-color3: #383838;\n",
       "                }\n",
       "\n",
       "                .geemap-colab {\n",
       "                    background-color: var(--colab-primary-surface-color, white);\n",
       "                }\n",
       "\n",
       "                .geemap-colab .jupyter-button {\n",
       "                    --jp-layout-color3: var(--colab-primary-surface-color, white);\n",
       "                }\n",
       "            </style>\n",
       "            "
      ],
      "text/plain": [
       "<IPython.core.display.HTML object>"
      ]
     },
     "metadata": {},
     "output_type": "display_data"
    }
   ],
   "source": [
    "#export table with map and reference\n",
    "results_df.to_csv(table_out,index=False)"
   ]
  },
  {
   "cell_type": "markdown",
   "id": "c08cdbd0-5033-437e-a27e-d319c26a03ee",
   "metadata": {},
   "source": [
    "#### Confusion matrix"
   ]
  },
  {
   "cell_type": "code",
   "execution_count": 72,
   "id": "54b205e4-bc0e-449e-9118-f5772e4a6e18",
   "metadata": {},
   "outputs": [
    {
     "data": {
      "text/html": [
       "\n",
       "            <style>\n",
       "                .geemap-dark {\n",
       "                    --jp-widgets-color: white;\n",
       "                    --jp-widgets-label-color: white;\n",
       "                    --jp-ui-font-color1: white;\n",
       "                    --jp-layout-color2: #454545;\n",
       "                    background-color: #383838;\n",
       "                }\n",
       "\n",
       "                .geemap-dark .jupyter-button {\n",
       "                    --jp-layout-color3: #383838;\n",
       "                }\n",
       "\n",
       "                .geemap-colab {\n",
       "                    background-color: var(--colab-primary-surface-color, white);\n",
       "                }\n",
       "\n",
       "                .geemap-colab .jupyter-button {\n",
       "                    --jp-layout-color3: var(--colab-primary-surface-color, white);\n",
       "                }\n",
       "            </style>\n",
       "            "
      ],
      "text/plain": [
       "<IPython.core.display.HTML object>"
      ]
     },
     "metadata": {},
     "output_type": "display_data"
    }
   ],
   "source": [
    "conf_matrix = confusion_matrix(results_df[ref_column], results_df[map_column], labels=labels)"
   ]
  },
  {
   "cell_type": "code",
   "execution_count": 73,
   "id": "10cc090f-aad4-434b-a4e0-ec2ec6d1497f",
   "metadata": {},
   "outputs": [
    {
     "data": {
      "text/html": [
       "\n",
       "            <style>\n",
       "                .geemap-dark {\n",
       "                    --jp-widgets-color: white;\n",
       "                    --jp-widgets-label-color: white;\n",
       "                    --jp-ui-font-color1: white;\n",
       "                    --jp-layout-color2: #454545;\n",
       "                    background-color: #383838;\n",
       "                }\n",
       "\n",
       "                .geemap-dark .jupyter-button {\n",
       "                    --jp-layout-color3: #383838;\n",
       "                }\n",
       "\n",
       "                .geemap-colab {\n",
       "                    background-color: var(--colab-primary-surface-color, white);\n",
       "                }\n",
       "\n",
       "                .geemap-colab .jupyter-button {\n",
       "                    --jp-layout-color3: var(--colab-primary-surface-color, white);\n",
       "                }\n",
       "            </style>\n",
       "            "
      ],
      "text/plain": [
       "<IPython.core.display.HTML object>"
      ]
     },
     "metadata": {},
     "output_type": "display_data"
    },
    {
     "name": "stdout",
     "output_type": "stream",
     "text": [
      "F1 score per class:\n",
      "Class 11: 0.8026\n",
      "Class 12: 0.2630\n",
      "Class 13: 0.1120\n",
      "Class 14: 0.9474\n",
      "Class 15: 0.5156\n",
      "Class 21: 0.5714\n",
      "Class 22: 0.5559\n",
      "Class 30: 0.6370\n",
      "Class 41: 0.5000\n",
      "Class 42: 0.8116\n",
      "Class 50: 0.7576\n",
      "Class 60: 0.1071\n",
      "\n",
      "Macro F1-score: 0.5484\n",
      "Weighted F1-score: 0.6078\n"
     ]
    }
   ],
   "source": [
    "# Calculate F1 score per class (individual F1 scores for each class)\n",
    "f1_per_class = f1_score(results_df[ref_column], results_df[map_column], labels=labels, average=None)\n",
    "\n",
    "# Print F1 score per class\n",
    "print(\"F1 score per class:\")\n",
    "for i, class_label in enumerate(labels):\n",
    "    print(f\"Class {class_label}: {f1_per_class[i]:.4f}\")\n",
    "\n",
    "# Optionally, also print the macro and weighted F1 scores\n",
    "f1_macro = f1_score(results_df[ref_column], results_df[map_column], labels=labels, average='macro')\n",
    "f1_weighted = f1_score(results_df[ref_column], results_df[map_column], labels=labels, average='weighted')\n",
    "\n",
    "print(f\"\\nMacro F1-score: {f1_macro:.4f}\")  # Unweighted mean F1-score for all classes\n",
    "print(f\"Weighted F1-score: {f1_weighted:.4f}\")  # Weighted by support (number of true instances per class)"
   ]
  },
  {
   "cell_type": "code",
   "execution_count": 74,
   "id": "4c768b4b-49c5-420f-a695-97b14831992e",
   "metadata": {},
   "outputs": [
    {
     "data": {
      "text/html": [
       "\n",
       "            <style>\n",
       "                .geemap-dark {\n",
       "                    --jp-widgets-color: white;\n",
       "                    --jp-widgets-label-color: white;\n",
       "                    --jp-ui-font-color1: white;\n",
       "                    --jp-layout-color2: #454545;\n",
       "                    background-color: #383838;\n",
       "                }\n",
       "\n",
       "                .geemap-dark .jupyter-button {\n",
       "                    --jp-layout-color3: #383838;\n",
       "                }\n",
       "\n",
       "                .geemap-colab {\n",
       "                    background-color: var(--colab-primary-surface-color, white);\n",
       "                }\n",
       "\n",
       "                .geemap-colab .jupyter-button {\n",
       "                    --jp-layout-color3: var(--colab-primary-surface-color, white);\n",
       "                }\n",
       "            </style>\n",
       "            "
      ],
      "text/plain": [
       "<IPython.core.display.HTML object>"
      ]
     },
     "metadata": {},
     "output_type": "display_data"
    },
    {
     "name": "stdout",
     "output_type": "stream",
     "text": [
      "     11  12  13  14  15  21   22   30  41  42  50  60\n",
      "11  754   4   0   0  29   1    4    3   0   0   0   2\n",
      "12  121  53  17   0   9   1    0   14   1   0   0   2\n",
      "13   84  41  14   0   4   0    5   32   0   0   0   8\n",
      "14    0   0   0  18   0   0    0    1   0   0   0   0\n",
      "15   60   9   0   0  66   1    1    9   0   0   0   0\n",
      "21    1   0   0   0   1   8    1    4   0   0   0   0\n",
      "22    2   2   0   0   0   1  102   41   4   0   0   4\n",
      "30   44  72  29   0   1   1   85  386  12   0   2  68\n",
      "41    8   0   1   1   0   0    3    5  22   2   0   4\n",
      "42    0   1   0   0   0   0    1    3   2  28   0   4\n",
      "50    8   2   1   0   0   0    6   11   1   0  50   1\n",
      "60    0   1   0   0   0   0    3    3   0   0   0   6\n"
     ]
    }
   ],
   "source": [
    "cm_df = pd.DataFrame(conf_matrix, index=labels, columns=labels)\n",
    "print(cm_df)"
   ]
  },
  {
   "cell_type": "code",
   "execution_count": 75,
   "id": "98e9faac-a9c6-4a4a-bb11-2ab5a96174d5",
   "metadata": {},
   "outputs": [
    {
     "data": {
      "text/html": [
       "\n",
       "            <style>\n",
       "                .geemap-dark {\n",
       "                    --jp-widgets-color: white;\n",
       "                    --jp-widgets-label-color: white;\n",
       "                    --jp-ui-font-color1: white;\n",
       "                    --jp-layout-color2: #454545;\n",
       "                    background-color: #383838;\n",
       "                }\n",
       "\n",
       "                .geemap-dark .jupyter-button {\n",
       "                    --jp-layout-color3: #383838;\n",
       "                }\n",
       "\n",
       "                .geemap-colab {\n",
       "                    background-color: var(--colab-primary-surface-color, white);\n",
       "                }\n",
       "\n",
       "                .geemap-colab .jupyter-button {\n",
       "                    --jp-layout-color3: var(--colab-primary-surface-color, white);\n",
       "                }\n",
       "            </style>\n",
       "            "
      ],
      "text/plain": [
       "<IPython.core.display.HTML object>"
      ]
     },
     "metadata": {},
     "output_type": "display_data"
    }
   ],
   "source": [
    "#export\n",
    "#cm_df.to_csv(matrix_out,index=True)"
   ]
  },
  {
   "cell_type": "code",
   "execution_count": 76,
   "id": "d9599bbf-e269-44fa-90d1-54859a83c42b",
   "metadata": {},
   "outputs": [
    {
     "data": {
      "text/html": [
       "\n",
       "            <style>\n",
       "                .geemap-dark {\n",
       "                    --jp-widgets-color: white;\n",
       "                    --jp-widgets-label-color: white;\n",
       "                    --jp-ui-font-color1: white;\n",
       "                    --jp-layout-color2: #454545;\n",
       "                    background-color: #383838;\n",
       "                }\n",
       "\n",
       "                .geemap-dark .jupyter-button {\n",
       "                    --jp-layout-color3: #383838;\n",
       "                }\n",
       "\n",
       "                .geemap-colab {\n",
       "                    background-color: var(--colab-primary-surface-color, white);\n",
       "                }\n",
       "\n",
       "                .geemap-colab .jupyter-button {\n",
       "                    --jp-layout-color3: var(--colab-primary-surface-color, white);\n",
       "                }\n",
       "            </style>\n",
       "            "
      ],
      "text/plain": [
       "<IPython.core.display.HTML object>"
      ]
     },
     "metadata": {},
     "output_type": "display_data"
    },
    {
     "data": {
      "image/png": "[encoded data removed]",
      "text/plain": [
       "<Figure size 800x600 with 2 Axes>"
      ]
     },
     "metadata": {},
     "output_type": "display_data"
    }
   ],
   "source": [
    "# Plot confusion matrix as a heatmap\n",
    "plt.figure(figsize=(8, 6))\n",
    "sns.heatmap(cm_df, annot=True, fmt='d', cmap='Blues')\n",
    "plt.ylabel('Ref LCover')\n",
    "plt.xlabel('Map LCover')\n",
    "plt.title('Confusion Matrix')\n",
    "plt.show()"
   ]
  },
  {
   "cell_type": "code",
   "execution_count": 77,
   "id": "18cfbc97-dec9-44a6-8645-c9a07baa7cf4",
   "metadata": {},
   "outputs": [
    {
     "data": {
      "text/html": [
       "\n",
       "            <style>\n",
       "                .geemap-dark {\n",
       "                    --jp-widgets-color: white;\n",
       "                    --jp-widgets-label-color: white;\n",
       "                    --jp-ui-font-color1: white;\n",
       "                    --jp-layout-color2: #454545;\n",
       "                    background-color: #383838;\n",
       "                }\n",
       "\n",
       "                .geemap-dark .jupyter-button {\n",
       "                    --jp-layout-color3: #383838;\n",
       "                }\n",
       "\n",
       "                .geemap-colab {\n",
       "                    background-color: var(--colab-primary-surface-color, white);\n",
       "                }\n",
       "\n",
       "                .geemap-colab .jupyter-button {\n",
       "                    --jp-layout-color3: var(--colab-primary-surface-color, white);\n",
       "                }\n",
       "            </style>\n",
       "            "
      ],
      "text/plain": [
       "<IPython.core.display.HTML object>"
      ]
     },
     "metadata": {},
     "output_type": "display_data"
    }
   ],
   "source": [
    "# Select the column from areas_df to use for multiplication, for example, 'Area1'\n",
    "area_column = areas_df['Area (ha)']"
   ]
  },
  {
   "cell_type": "code",
   "execution_count": 78,
   "id": "90b5469e-a1ea-4106-95f7-9c8efc2afee3",
   "metadata": {},
   "outputs": [
    {
     "data": {
      "text/html": [
       "\n",
       "            <style>\n",
       "                .geemap-dark {\n",
       "                    --jp-widgets-color: white;\n",
       "                    --jp-widgets-label-color: white;\n",
       "                    --jp-ui-font-color1: white;\n",
       "                    --jp-layout-color2: #454545;\n",
       "                    background-color: #383838;\n",
       "                }\n",
       "\n",
       "                .geemap-dark .jupyter-button {\n",
       "                    --jp-layout-color3: #383838;\n",
       "                }\n",
       "\n",
       "                .geemap-colab {\n",
       "                    background-color: var(--colab-primary-surface-color, white);\n",
       "                }\n",
       "\n",
       "                .geemap-colab .jupyter-button {\n",
       "                    --jp-layout-color3: var(--colab-primary-surface-color, white);\n",
       "                }\n",
       "            </style>\n",
       "            "
      ],
      "text/plain": [
       "<IPython.core.display.HTML object>"
      ]
     },
     "metadata": {},
     "output_type": "display_data"
    }
   ],
   "source": [
    "# Convert the selected column to a NumPy array for broadcasting\n",
    "area_column = area_column.to_numpy()"
   ]
  },
  {
   "cell_type": "code",
   "execution_count": 79,
   "id": "9f6cd2b8-d25e-4366-afff-db4df78a6682",
   "metadata": {},
   "outputs": [
    {
     "data": {
      "text/html": [
       "\n",
       "            <style>\n",
       "                .geemap-dark {\n",
       "                    --jp-widgets-color: white;\n",
       "                    --jp-widgets-label-color: white;\n",
       "                    --jp-ui-font-color1: white;\n",
       "                    --jp-layout-color2: #454545;\n",
       "                    background-color: #383838;\n",
       "                }\n",
       "\n",
       "                .geemap-dark .jupyter-button {\n",
       "                    --jp-layout-color3: #383838;\n",
       "                }\n",
       "\n",
       "                .geemap-colab {\n",
       "                    background-color: var(--colab-primary-surface-color, white);\n",
       "                }\n",
       "\n",
       "                .geemap-colab .jupyter-button {\n",
       "                    --jp-layout-color3: var(--colab-primary-surface-color, white);\n",
       "                }\n",
       "            </style>\n",
       "            "
      ],
      "text/plain": [
       "<IPython.core.display.HTML object>"
      ]
     },
     "metadata": {},
     "output_type": "display_data"
    },
    {
     "data": {
      "text/plain": [
       "array([[2.14160382e+10, 1.13612935e+08, 0.00000000e+00, 0.00000000e+00,\n",
       "        8.23693777e+08, 2.84032337e+07, 1.13612935e+08, 8.52097011e+07,\n",
       "        0.00000000e+00, 0.00000000e+00, 0.00000000e+00, 5.68064674e+07],\n",
       "       [3.31873052e+08, 1.45365882e+08, 4.66267925e+07, 0.00000000e+00,\n",
       "        2.46847725e+07, 2.74275250e+06, 0.00000000e+00, 3.83985350e+07,\n",
       "        2.74275250e+06, 0.00000000e+00, 0.00000000e+00, 5.48550500e+06],\n",
       "       [7.44168774e+07, 3.63225235e+07, 1.24028129e+07, 0.00000000e+00,\n",
       "        3.54366083e+06, 0.00000000e+00, 4.42957604e+06, 2.83492866e+07,\n",
       "        0.00000000e+00, 0.00000000e+00, 0.00000000e+00, 7.08732166e+06],\n",
       "       [0.00000000e+00, 0.00000000e+00, 0.00000000e+00, 3.88409670e+06,\n",
       "        0.00000000e+00, 0.00000000e+00, 0.00000000e+00, 2.15783150e+05,\n",
       "        0.00000000e+00, 0.00000000e+00, 0.00000000e+00, 0.00000000e+00],\n",
       "       [1.02588702e+08, 1.53883054e+07, 0.00000000e+00, 0.00000000e+00,\n",
       "        1.12847573e+08, 1.70981171e+06, 1.70981171e+06, 1.53883054e+07,\n",
       "        0.00000000e+00, 0.00000000e+00, 0.00000000e+00, 0.00000000e+00],\n",
       "       [1.29177988e+05, 0.00000000e+00, 0.00000000e+00, 0.00000000e+00,\n",
       "        1.29177988e+05, 1.03342390e+06, 1.29177988e+05, 5.16711951e+05,\n",
       "        0.00000000e+00, 0.00000000e+00, 0.00000000e+00, 0.00000000e+00],\n",
       "       [7.13533027e+06, 7.13533027e+06, 0.00000000e+00, 0.00000000e+00,\n",
       "        0.00000000e+00, 3.56766513e+06, 3.63901844e+08, 1.46274270e+08,\n",
       "        1.42706605e+07, 0.00000000e+00, 0.00000000e+00, 1.42706605e+07],\n",
       "       [2.96587556e+08, 4.85325092e+08, 1.95478162e+08, 0.00000000e+00,\n",
       "        6.74062628e+06, 6.74062628e+06, 5.72953233e+08, 2.60188174e+09,\n",
       "        8.08875153e+07, 0.00000000e+00, 1.34812526e+07, 4.58362587e+08],\n",
       "       [3.67761374e+06, 0.00000000e+00, 4.59701718e+05, 4.59701718e+05,\n",
       "        0.00000000e+00, 0.00000000e+00, 1.37910515e+06, 2.29850859e+06,\n",
       "        1.01134378e+07, 9.19403436e+05, 0.00000000e+00, 1.83880687e+06],\n",
       "       [0.00000000e+00, 3.48718992e+05, 0.00000000e+00, 0.00000000e+00,\n",
       "        0.00000000e+00, 0.00000000e+00, 3.48718992e+05, 1.04615698e+06,\n",
       "        6.97437984e+05, 9.76413177e+06, 0.00000000e+00, 1.39487597e+06],\n",
       "       [1.91975691e+06, 4.79939229e+05, 2.39969614e+05, 0.00000000e+00,\n",
       "        0.00000000e+00, 0.00000000e+00, 1.43981769e+06, 2.63966576e+06,\n",
       "        2.39969614e+05, 0.00000000e+00, 1.19984807e+07, 2.39969614e+05],\n",
       "       [0.00000000e+00, 1.14421432e+06, 0.00000000e+00, 0.00000000e+00,\n",
       "        0.00000000e+00, 0.00000000e+00, 3.43264297e+06, 3.43264297e+06,\n",
       "        0.00000000e+00, 0.00000000e+00, 0.00000000e+00, 6.86528594e+06]])"
      ]
     },
     "execution_count": 79,
     "metadata": {},
     "output_type": "execute_result"
    }
   ],
   "source": [
    "# Perform element-wise multiplication using broadcasting\n",
    "weighted_conf_matrix = conf_matrix * area_column[:, np.newaxis]\n",
    "weighted_conf_matrix"
   ]
  },
  {
   "cell_type": "code",
   "execution_count": 80,
   "id": "c67c6fbe-1173-4f8f-9097-892b4d4f47ff",
   "metadata": {},
   "outputs": [
    {
     "data": {
      "text/html": [
       "\n",
       "            <style>\n",
       "                .geemap-dark {\n",
       "                    --jp-widgets-color: white;\n",
       "                    --jp-widgets-label-color: white;\n",
       "                    --jp-ui-font-color1: white;\n",
       "                    --jp-layout-color2: #454545;\n",
       "                    background-color: #383838;\n",
       "                }\n",
       "\n",
       "                .geemap-dark .jupyter-button {\n",
       "                    --jp-layout-color3: #383838;\n",
       "                }\n",
       "\n",
       "                .geemap-colab {\n",
       "                    background-color: var(--colab-primary-surface-color, white);\n",
       "                }\n",
       "\n",
       "                .geemap-colab .jupyter-button {\n",
       "                    --jp-layout-color3: var(--colab-primary-surface-color, white);\n",
       "                }\n",
       "            </style>\n",
       "            "
      ],
      "text/plain": [
       "<IPython.core.display.HTML object>"
      ]
     },
     "metadata": {},
     "output_type": "display_data"
    },
    {
     "data": {
      "text/plain": [
       "0.8515504290347272"
      ]
     },
     "execution_count": 80,
     "metadata": {},
     "output_type": "execute_result"
    }
   ],
   "source": [
    "# Calculate overall accuracy\n",
    "overall_accuracy = np.trace(weighted_conf_matrix) / np.sum(weighted_conf_matrix)\n",
    "overall_accuracy"
   ]
  },
  {
   "cell_type": "code",
   "execution_count": 81,
   "id": "0097378c-eb19-4a84-8b10-8c7ae3042814",
   "metadata": {},
   "outputs": [
    {
     "data": {
      "text/html": [
       "\n",
       "            <style>\n",
       "                .geemap-dark {\n",
       "                    --jp-widgets-color: white;\n",
       "                    --jp-widgets-label-color: white;\n",
       "                    --jp-ui-font-color1: white;\n",
       "                    --jp-layout-color2: #454545;\n",
       "                    background-color: #383838;\n",
       "                }\n",
       "\n",
       "                .geemap-dark .jupyter-button {\n",
       "                    --jp-layout-color3: #383838;\n",
       "                }\n",
       "\n",
       "                .geemap-colab {\n",
       "                    background-color: var(--colab-primary-surface-color, white);\n",
       "                }\n",
       "\n",
       "                .geemap-colab .jupyter-button {\n",
       "                    --jp-layout-color3: var(--colab-primary-surface-color, white);\n",
       "                }\n",
       "            </style>\n",
       "            "
      ],
      "text/plain": [
       "<IPython.core.display.HTML object>"
      ]
     },
     "metadata": {},
     "output_type": "display_data"
    },
    {
     "data": {
      "text/plain": [
       "array([0.96319535, 0.18055116, 0.04859895, 0.89417057, 0.11614139,\n",
       "       0.02338195, 0.3422263 , 0.88933419, 0.0928249 , 0.91394202,\n",
       "       0.47090292, 0.0124292 ])"
      ]
     },
     "execution_count": 81,
     "metadata": {},
     "output_type": "execute_result"
    }
   ],
   "source": [
    "# Calculate user's accuracy (precision) and producer's accuracy (recall)\n",
    "users_accuracy = np.diag(weighted_conf_matrix) / np.sum(weighted_conf_matrix, axis=0)\n",
    "users_accuracy"
   ]
  },
  {
   "cell_type": "code",
   "execution_count": 82,
   "id": "5bd3c554-165a-4629-a234-c6d0fc825306",
   "metadata": {},
   "outputs": [
    {
     "data": {
      "text/html": [
       "\n",
       "            <style>\n",
       "                .geemap-dark {\n",
       "                    --jp-widgets-color: white;\n",
       "                    --jp-widgets-label-color: white;\n",
       "                    --jp-ui-font-color1: white;\n",
       "                    --jp-layout-color2: #454545;\n",
       "                    background-color: #383838;\n",
       "                }\n",
       "\n",
       "                .geemap-dark .jupyter-button {\n",
       "                    --jp-layout-color3: #383838;\n",
       "                }\n",
       "\n",
       "                .geemap-colab {\n",
       "                    background-color: var(--colab-primary-surface-color, white);\n",
       "                }\n",
       "\n",
       "                .geemap-colab .jupyter-button {\n",
       "                    --jp-layout-color3: var(--colab-primary-surface-color, white);\n",
       "                }\n",
       "            </style>\n",
       "            "
      ],
      "text/plain": [
       "<IPython.core.display.HTML object>"
      ]
     },
     "metadata": {},
     "output_type": "display_data"
    },
    {
     "data": {
      "text/plain": [
       "array([0.94604768, 0.24311927, 0.07446809, 0.94736842, 0.45205479,\n",
       "       0.53333333, 0.65384615, 0.55142857, 0.47826087, 0.71794872,\n",
       "       0.625     , 0.46153846])"
      ]
     },
     "execution_count": 82,
     "metadata": {},
     "output_type": "execute_result"
    }
   ],
   "source": [
    "producers_accuracy = np.diag(weighted_conf_matrix) / np.sum(weighted_conf_matrix, axis=1)\n",
    "producers_accuracy"
   ]
  },
  {
   "cell_type": "code",
   "execution_count": 83,
   "id": "1914b086-2cc6-4c30-ae25-5dcb8715fbc4",
   "metadata": {},
   "outputs": [
    {
     "data": {
      "text/html": [
       "\n",
       "            <style>\n",
       "                .geemap-dark {\n",
       "                    --jp-widgets-color: white;\n",
       "                    --jp-widgets-label-color: white;\n",
       "                    --jp-ui-font-color1: white;\n",
       "                    --jp-layout-color2: #454545;\n",
       "                    background-color: #383838;\n",
       "                }\n",
       "\n",
       "                .geemap-dark .jupyter-button {\n",
       "                    --jp-layout-color3: #383838;\n",
       "                }\n",
       "\n",
       "                .geemap-colab {\n",
       "                    background-color: var(--colab-primary-surface-color, white);\n",
       "                }\n",
       "\n",
       "                .geemap-colab .jupyter-button {\n",
       "                    --jp-layout-color3: var(--colab-primary-surface-color, white);\n",
       "                }\n",
       "            </style>\n",
       "            "
      ],
      "text/plain": [
       "<IPython.core.display.HTML object>"
      ]
     },
     "metadata": {},
     "output_type": "display_data"
    }
   ],
   "source": [
    "# Calculate the kappa coefficient\n",
    "total_sum = np.sum(weighted_conf_matrix)\n",
    "random_agreement = np.sum(np.sum(weighted_conf_matrix, axis=0) * np.sum(weighted_conf_matrix, axis=1)) / total_sum\n",
    "kappa = (overall_accuracy - random_agreement) / (1 - random_agreement)"
   ]
  },
  {
   "cell_type": "code",
   "execution_count": 84,
   "id": "b602e8fb-5de2-4736-8a75-0756ed30a9fb",
   "metadata": {},
   "outputs": [
    {
     "data": {
      "text/html": [
       "\n",
       "            <style>\n",
       "                .geemap-dark {\n",
       "                    --jp-widgets-color: white;\n",
       "                    --jp-widgets-label-color: white;\n",
       "                    --jp-ui-font-color1: white;\n",
       "                    --jp-layout-color2: #454545;\n",
       "                    background-color: #383838;\n",
       "                }\n",
       "\n",
       "                .geemap-dark .jupyter-button {\n",
       "                    --jp-layout-color3: #383838;\n",
       "                }\n",
       "\n",
       "                .geemap-colab {\n",
       "                    background-color: var(--colab-primary-surface-color, white);\n",
       "                }\n",
       "\n",
       "                .geemap-colab .jupyter-button {\n",
       "                    --jp-layout-color3: var(--colab-primary-surface-color, white);\n",
       "                }\n",
       "            </style>\n",
       "            "
      ],
      "text/plain": [
       "<IPython.core.display.HTML object>"
      ]
     },
     "metadata": {},
     "output_type": "display_data"
    },
    {
     "name": "stdout",
     "output_type": "stream",
     "text": [
      "                 Class  User's Accuracy Producer's Accuracy Reference Area\n",
      "0                   11            0.963               0.946   28403233.699\n",
      "1                   12            0.181               0.243    2742752.498\n",
      "2                   13            0.049               0.074     885915.208\n",
      "3                   14            0.894               0.947     215783.150\n",
      "4                   15            0.116               0.452    1709811.708\n",
      "5                   21            0.023               0.533     129177.988\n",
      "6                   22            0.342               0.654    3567665.134\n",
      "7                   30            0.889               0.551    6740626.276\n",
      "8                   41            0.093               0.478     459701.718\n",
      "9                   42            0.914               0.718     348718.992\n",
      "10                  50            0.471               0.625     239969.614\n",
      "11                  60            0.012               0.462    1144214.324\n",
      "Overall Accuracy     -            0.852                   -              -\n",
      "Kappa                -            1.000                   -              -\n"
     ]
    }
   ],
   "source": [
    "# Create a DataFrame to display the results\n",
    "results = {\n",
    "    \"Class\": labels,\n",
    "    \"User's Accuracy\": users_accuracy,\n",
    "    \"Producer's Accuracy\": producers_accuracy,\n",
    "    \"Reference Area\": area_column\n",
    "}\n",
    "\n",
    "acc_df = pd.DataFrame(results)\n",
    "\n",
    "# Adding Overall Accuracy and Kappa to the DataFrame\n",
    "acc_df.loc[\"Overall Accuracy\"] = [\"-\", overall_accuracy, \"-\", \"-\"]\n",
    "acc_df.loc[\"Kappa\"] = [\"-\", kappa, \"-\", \"-\"]\n",
    "\n",
    "# Display the results\n",
    "print(acc_df)"
   ]
  },
  {
   "cell_type": "code",
   "execution_count": 85,
   "id": "a38d8041-1689-4786-8316-9ae8d087b48b",
   "metadata": {},
   "outputs": [
    {
     "data": {
      "text/html": [
       "\n",
       "            <style>\n",
       "                .geemap-dark {\n",
       "                    --jp-widgets-color: white;\n",
       "                    --jp-widgets-label-color: white;\n",
       "                    --jp-ui-font-color1: white;\n",
       "                    --jp-layout-color2: #454545;\n",
       "                    background-color: #383838;\n",
       "                }\n",
       "\n",
       "                .geemap-dark .jupyter-button {\n",
       "                    --jp-layout-color3: #383838;\n",
       "                }\n",
       "\n",
       "                .geemap-colab {\n",
       "                    background-color: var(--colab-primary-surface-color, white);\n",
       "                }\n",
       "\n",
       "                .geemap-colab .jupyter-button {\n",
       "                    --jp-layout-color3: var(--colab-primary-surface-color, white);\n",
       "                }\n",
       "            </style>\n",
       "            "
      ],
      "text/plain": [
       "<IPython.core.display.HTML object>"
      ]
     },
     "metadata": {},
     "output_type": "display_data"
    }
   ],
   "source": [
    "import random\n",
    "\n",
    "def bootstrap_conf_intervals(data, num_samples=100, alpha=0.05):\n",
    "    samples = np.random.choice(data, size=(num_samples, len(data)), replace=True)\n",
    "    metric_means = np.mean(samples, axis=1)\n",
    "    lower = np.percentile(metric_means, 100 * alpha / 2)\n",
    "    upper = np.percentile(metric_means, 100 * (1 - alpha / 2))\n",
    "    return lower, upper\n",
    "\n",
    "# Compute bootstrap confidence intervals for user's accuracy\n",
    "user_accuracy_intervals = [bootstrap_conf_intervals(conf_matrix[i, :] / conf_matrix.sum(axis=1)) for i in range(len(conf_matrix))]\n",
    "producer_accuracy_intervals = [bootstrap_conf_intervals(conf_matrix[:, i] / conf_matrix.sum(axis=0)) for i in range(len(conf_matrix))]\n",
    "overall_accuracy_interval = bootstrap_conf_intervals([overall_accuracy] * len(conf_matrix))\n",
    "kappa_interval = bootstrap_conf_intervals([kappa] * len(conf_matrix))\n",
    "\n",
    "# Compute bootstrap confidence intervals for area calculations\n",
    "area_intervals = [bootstrap_conf_intervals(areas_df['Area (ha)']) for area in areas_df['Area (ha)']]"
   ]
  },
  {
   "cell_type": "code",
   "execution_count": 86,
   "id": "65f152ff-06df-4bbf-a805-9446523690e1",
   "metadata": {},
   "outputs": [
    {
     "data": {
      "text/html": [
       "\n",
       "            <style>\n",
       "                .geemap-dark {\n",
       "                    --jp-widgets-color: white;\n",
       "                    --jp-widgets-label-color: white;\n",
       "                    --jp-ui-font-color1: white;\n",
       "                    --jp-layout-color2: #454545;\n",
       "                    background-color: #383838;\n",
       "                }\n",
       "\n",
       "                .geemap-dark .jupyter-button {\n",
       "                    --jp-layout-color3: #383838;\n",
       "                }\n",
       "\n",
       "                .geemap-colab {\n",
       "                    background-color: var(--colab-primary-surface-color, white);\n",
       "                }\n",
       "\n",
       "                .geemap-colab .jupyter-button {\n",
       "                    --jp-layout-color3: var(--colab-primary-surface-color, white);\n",
       "                }\n",
       "            </style>\n",
       "            "
      ],
      "text/plain": [
       "<IPython.core.display.HTML object>"
      ]
     },
     "metadata": {},
     "output_type": "display_data"
    },
    {
     "data": {
      "text/html": [
       "<div>\n",
       "<style scoped>\n",
       "    .dataframe tbody tr th:only-of-type {\n",
       "        vertical-align: middle;\n",
       "    }\n",
       "\n",
       "    .dataframe tbody tr th {\n",
       "        vertical-align: top;\n",
       "    }\n",
       "\n",
       "    .dataframe thead th {\n",
       "        text-align: right;\n",
       "    }\n",
       "</style>\n",
       "<table border=\"1\" class=\"dataframe\">\n",
       "  <thead>\n",
       "    <tr style=\"text-align: right;\">\n",
       "      <th></th>\n",
       "      <th>Class</th>\n",
       "      <th>User's Accuracy</th>\n",
       "      <th>User's Accuracy CI</th>\n",
       "      <th>Producer's Accuracy</th>\n",
       "      <th>Producer's Accuracy CI</th>\n",
       "      <th>Reference Area</th>\n",
       "      <th>Area CI</th>\n",
       "    </tr>\n",
       "  </thead>\n",
       "  <tbody>\n",
       "    <tr>\n",
       "      <th>0</th>\n",
       "      <td>11</td>\n",
       "      <td>0.963</td>\n",
       "      <td>(0.01883605627385475, 0.29517771347510957)</td>\n",
       "      <td>0.946</td>\n",
       "      <td>(0.13199199161853745, 0.5493380306176453)</td>\n",
       "      <td>28403233.699</td>\n",
       "      <td>(1198052.439106128, 10194103.115973618)</td>\n",
       "    </tr>\n",
       "    <tr>\n",
       "      <th>1</th>\n",
       "      <td>12</td>\n",
       "      <td>0.181</td>\n",
       "      <td>(0.023361575622445188, 0.11876343934685717)</td>\n",
       "      <td>0.243</td>\n",
       "      <td>(0.02418195736721609, 0.21564939488063195)</td>\n",
       "      <td>2742752.498</td>\n",
       "      <td>(1126153.8869297802, 8489704.201744923)</td>\n",
       "    </tr>\n",
       "    <tr>\n",
       "      <th>2</th>\n",
       "      <td>13</td>\n",
       "      <td>0.049</td>\n",
       "      <td>(0.0256456562697442, 0.2183307236488035)</td>\n",
       "      <td>0.074</td>\n",
       "      <td>(0.006503858554639804, 0.07017930492925767)</td>\n",
       "      <td>885915.208</td>\n",
       "      <td>(1064100.4326899748, 8598138.402130282)</td>\n",
       "    </tr>\n",
       "    <tr>\n",
       "      <th>3</th>\n",
       "      <td>14</td>\n",
       "      <td>0.894</td>\n",
       "      <td>(0.0, 0.3157894736842105)</td>\n",
       "      <td>0.947</td>\n",
       "      <td>(0.0, 0.2398678989139515)</td>\n",
       "      <td>215783.150</td>\n",
       "      <td>(895191.7665387562, 8203384.385662342)</td>\n",
       "    </tr>\n",
       "    <tr>\n",
       "      <th>4</th>\n",
       "      <td>15</td>\n",
       "      <td>0.116</td>\n",
       "      <td>(0.006150330700597326, 0.12128510955865794)</td>\n",
       "      <td>0.452</td>\n",
       "      <td>(0.010241102324804055, 0.17116546844393052)</td>\n",
       "      <td>1709811.708</td>\n",
       "      <td>(1055589.9150174204, 7600435.086266749)</td>\n",
       "    </tr>\n",
       "    <tr>\n",
       "      <th>5</th>\n",
       "      <td>21</td>\n",
       "      <td>0.023</td>\n",
       "      <td>(0.0008946098426179983, 0.13539408923662483)</td>\n",
       "      <td>0.533</td>\n",
       "      <td>(0.0006610882203400214, 0.15578334422441045)</td>\n",
       "      <td>129177.988</td>\n",
       "      <td>(1001738.0085121549, 8133257.211720939)</td>\n",
       "    </tr>\n",
       "    <tr>\n",
       "      <th>6</th>\n",
       "      <td>22</td>\n",
       "      <td>0.342</td>\n",
       "      <td>(0.01486066496135411, 0.2546065307496012)</td>\n",
       "      <td>0.654</td>\n",
       "      <td>(0.03247564404338001, 0.17168918147796727)</td>\n",
       "      <td>3567665.134</td>\n",
       "      <td>(979032.6011539948, 10543889.382891092)</td>\n",
       "    </tr>\n",
       "    <tr>\n",
       "      <th>7</th>\n",
       "      <td>30</td>\n",
       "      <td>0.889</td>\n",
       "      <td>(0.11429845264975183, 1.5400835234708872)</td>\n",
       "      <td>0.551</td>\n",
       "      <td>(0.10372809020822951, 0.31606845895301666)</td>\n",
       "      <td>6740626.276</td>\n",
       "      <td>(858391.0873119363, 8777535.518935379)</td>\n",
       "    </tr>\n",
       "    <tr>\n",
       "      <th>8</th>\n",
       "      <td>41</td>\n",
       "      <td>0.093</td>\n",
       "      <td>(0.011302361053539009, 0.1577326086834642)</td>\n",
       "      <td>0.478</td>\n",
       "      <td>(0.005007122995357964, 0.1622606340672744)</td>\n",
       "      <td>459701.718</td>\n",
       "      <td>(1011238.585503308, 7598868.246345595)</td>\n",
       "    </tr>\n",
       "    <tr>\n",
       "      <th>9</th>\n",
       "      <td>42</td>\n",
       "      <td>0.914</td>\n",
       "      <td>(0.0021649247796036784, 0.22457195356664333)</td>\n",
       "      <td>0.718</td>\n",
       "      <td>(0.0, 0.23541666666666664)</td>\n",
       "      <td>348718.992</td>\n",
       "      <td>(940885.4102784225, 8405030.777561687)</td>\n",
       "    </tr>\n",
       "    <tr>\n",
       "      <th>10</th>\n",
       "      <td>50</td>\n",
       "      <td>0.471</td>\n",
       "      <td>(0.006750770936594118, 0.17308761131962855)</td>\n",
       "      <td>0.625</td>\n",
       "      <td>(0.0, 0.28260654547275577)</td>\n",
       "      <td>239969.614</td>\n",
       "      <td>(1178236.936005467, 8386857.9768233895)</td>\n",
       "    </tr>\n",
       "    <tr>\n",
       "      <th>11</th>\n",
       "      <td>60</td>\n",
       "      <td>0.012</td>\n",
       "      <td>(0.00038226299694189603, 0.13704650166347385)</td>\n",
       "      <td>0.462</td>\n",
       "      <td>(0.02303639654311912, 0.08122471197648444)</td>\n",
       "      <td>1144214.324</td>\n",
       "      <td>(1119167.2659827191, 7876317.583101631)</td>\n",
       "    </tr>\n",
       "    <tr>\n",
       "      <th>Overall Accuracy</th>\n",
       "      <td>-</td>\n",
       "      <td>0.852</td>\n",
       "      <td>(0.8515504290347272, 0.8515504290347272)</td>\n",
       "      <td>-</td>\n",
       "      <td>-</td>\n",
       "      <td>-</td>\n",
       "      <td>-</td>\n",
       "    </tr>\n",
       "    <tr>\n",
       "      <th>Kappa</th>\n",
       "      <td>-</td>\n",
       "      <td>1.000</td>\n",
       "      <td>(1.000000000008303, 1.000000000008303)</td>\n",
       "      <td>-</td>\n",
       "      <td>-</td>\n",
       "      <td>-</td>\n",
       "      <td>-</td>\n",
       "    </tr>\n",
       "  </tbody>\n",
       "</table>\n",
       "</div>"
      ],
      "text/plain": [
       "                 Class  User's Accuracy  \\\n",
       "0                   11            0.963   \n",
       "1                   12            0.181   \n",
       "2                   13            0.049   \n",
       "3                   14            0.894   \n",
       "4                   15            0.116   \n",
       "5                   21            0.023   \n",
       "6                   22            0.342   \n",
       "7                   30            0.889   \n",
       "8                   41            0.093   \n",
       "9                   42            0.914   \n",
       "10                  50            0.471   \n",
       "11                  60            0.012   \n",
       "Overall Accuracy     -            0.852   \n",
       "Kappa                -            1.000   \n",
       "\n",
       "                                             User's Accuracy CI  \\\n",
       "0                    (0.01883605627385475, 0.29517771347510957)   \n",
       "1                   (0.023361575622445188, 0.11876343934685717)   \n",
       "2                      (0.0256456562697442, 0.2183307236488035)   \n",
       "3                                     (0.0, 0.3157894736842105)   \n",
       "4                   (0.006150330700597326, 0.12128510955865794)   \n",
       "5                  (0.0008946098426179983, 0.13539408923662483)   \n",
       "6                     (0.01486066496135411, 0.2546065307496012)   \n",
       "7                     (0.11429845264975183, 1.5400835234708872)   \n",
       "8                    (0.011302361053539009, 0.1577326086834642)   \n",
       "9                  (0.0021649247796036784, 0.22457195356664333)   \n",
       "10                  (0.006750770936594118, 0.17308761131962855)   \n",
       "11                (0.00038226299694189603, 0.13704650166347385)   \n",
       "Overall Accuracy       (0.8515504290347272, 0.8515504290347272)   \n",
       "Kappa                    (1.000000000008303, 1.000000000008303)   \n",
       "\n",
       "                 Producer's Accuracy  \\\n",
       "0                              0.946   \n",
       "1                              0.243   \n",
       "2                              0.074   \n",
       "3                              0.947   \n",
       "4                              0.452   \n",
       "5                              0.533   \n",
       "6                              0.654   \n",
       "7                              0.551   \n",
       "8                              0.478   \n",
       "9                              0.718   \n",
       "10                             0.625   \n",
       "11                             0.462   \n",
       "Overall Accuracy                   -   \n",
       "Kappa                              -   \n",
       "\n",
       "                                        Producer's Accuracy CI Reference Area  \\\n",
       "0                    (0.13199199161853745, 0.5493380306176453)   28403233.699   \n",
       "1                   (0.02418195736721609, 0.21564939488063195)    2742752.498   \n",
       "2                  (0.006503858554639804, 0.07017930492925767)     885915.208   \n",
       "3                                    (0.0, 0.2398678989139515)     215783.150   \n",
       "4                  (0.010241102324804055, 0.17116546844393052)    1709811.708   \n",
       "5                 (0.0006610882203400214, 0.15578334422441045)     129177.988   \n",
       "6                   (0.03247564404338001, 0.17168918147796727)    3567665.134   \n",
       "7                   (0.10372809020822951, 0.31606845895301666)    6740626.276   \n",
       "8                   (0.005007122995357964, 0.1622606340672744)     459701.718   \n",
       "9                                   (0.0, 0.23541666666666664)     348718.992   \n",
       "10                                  (0.0, 0.28260654547275577)     239969.614   \n",
       "11                  (0.02303639654311912, 0.08122471197648444)    1144214.324   \n",
       "Overall Accuracy                                             -              -   \n",
       "Kappa                                                        -              -   \n",
       "\n",
       "                                                  Area CI  \n",
       "0                 (1198052.439106128, 10194103.115973618)  \n",
       "1                 (1126153.8869297802, 8489704.201744923)  \n",
       "2                 (1064100.4326899748, 8598138.402130282)  \n",
       "3                  (895191.7665387562, 8203384.385662342)  \n",
       "4                 (1055589.9150174204, 7600435.086266749)  \n",
       "5                 (1001738.0085121549, 8133257.211720939)  \n",
       "6                 (979032.6011539948, 10543889.382891092)  \n",
       "7                  (858391.0873119363, 8777535.518935379)  \n",
       "8                  (1011238.585503308, 7598868.246345595)  \n",
       "9                  (940885.4102784225, 8405030.777561687)  \n",
       "10                (1178236.936005467, 8386857.9768233895)  \n",
       "11                (1119167.2659827191, 7876317.583101631)  \n",
       "Overall Accuracy                                        -  \n",
       "Kappa                                                   -  "
      ]
     },
     "execution_count": 86,
     "metadata": {},
     "output_type": "execute_result"
    }
   ],
   "source": [
    "results = {\n",
    "    \"Class\": labels,\n",
    "    \"User's Accuracy\": users_accuracy,\n",
    "    \"User's Accuracy CI\": user_accuracy_intervals,\n",
    "    \"Producer's Accuracy\": producers_accuracy,\n",
    "    \"Producer's Accuracy CI\": producer_accuracy_intervals,\n",
    "    \"Reference Area\": areas_df['Area (ha)'],\n",
    "    \"Area CI\": area_intervals\n",
    "}\n",
    "\n",
    "acc_df = pd.DataFrame(results)\n",
    "\n",
    "# Adding Overall Accuracy and Kappa to the DataFrame\n",
    "acc_df.loc[\"Overall Accuracy\"] = [\"-\", overall_accuracy, overall_accuracy_interval, \"-\", \"-\", \"-\", \"-\"]\n",
    "acc_df.loc[\"Kappa\"] = [\"-\", kappa, kappa_interval, \"-\", \"-\", \"-\", \"-\"]\n",
    "\n",
    "# Display the results\n",
    "acc_df"
   ]
  },
  {
   "cell_type": "code",
   "execution_count": null,
   "id": "d45564fb-b5eb-4fa9-922b-97642a5f4b99",
   "metadata": {},
   "outputs": [],
   "source": []
  }
 ],
 "metadata": {
  "kernelspec": {
   "display_name": "Python 3",
   "language": "python",
   "name": "python3"
  },
  "language_info": {
   "codemirror_mode": {
    "name": "ipython",
    "version": 3
   },
   "file_extension": ".py",
   "mimetype": "text/x-python",
   "name": "python",
   "nbconvert_exporter": "python",
   "pygments_lexer": "ipython3",
   "version": "3.10.12"
  }
 },
 "nbformat": 4,
 "nbformat_minor": 5
}

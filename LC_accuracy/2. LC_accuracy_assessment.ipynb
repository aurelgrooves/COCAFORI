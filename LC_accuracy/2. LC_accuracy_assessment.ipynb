{
 "cells": [
  {
   "cell_type": "code",
   "execution_count": 1,
   "id": "c030d73b-ea82-4442-b44b-8c49def824f2",
   "metadata": {},
   "outputs": [],
   "source": [
    "import ee\n",
    "ee.Initialize()\n",
    "\n",
    "import geemap\n",
    "import pandas as pd\n",
    "import geopandas as gpd\n",
    "import numpy as np \n",
    "\n",
    "import seaborn as sns\n",
    "from matplotlib import pyplot as plt\n",
    "from sklearn.metrics import confusion_matrix\n",
    "from sklearn.metrics import f1_score, precision_score, recall_score, confusion_matrix\n",
    "\n",
    "pd.options.display.float_format = '{:.3f}'.format"
   ]
  },
  {
   "cell_type": "markdown",
   "id": "86cd5499-ef71-4025-936b-9604d5349930",
   "metadata": {},
   "source": [
    "## 1 - input parameters"
   ]
  },
  {
   "cell_type": "code",
   "execution_count": 2,
   "id": "143a9652-4451-46ed-a616-43d5a211245a",
   "metadata": {},
   "outputs": [
    {
     "data": {
      "text/html": [
       "\n",
       "            <style>\n",
       "                .geemap-dark {\n",
       "                    --jp-widgets-color: white;\n",
       "                    --jp-widgets-label-color: white;\n",
       "                    --jp-ui-font-color1: white;\n",
       "                    --jp-layout-color2: #454545;\n",
       "                    background-color: #383838;\n",
       "                }\n",
       "\n",
       "                .geemap-dark .jupyter-button {\n",
       "                    --jp-layout-color3: #383838;\n",
       "                }\n",
       "\n",
       "                .geemap-colab {\n",
       "                    background-color: var(--colab-primary-surface-color, white);\n",
       "                }\n",
       "\n",
       "                .geemap-colab .jupyter-button {\n",
       "                    --jp-layout-color3: var(--colab-primary-surface-color, white);\n",
       "                }\n",
       "            </style>\n",
       "            "
      ],
      "text/plain": [
       "<IPython.core.display.HTML object>"
      ]
     },
     "metadata": {},
     "output_type": "display_data"
    }
   ],
   "source": [
    "ISO = 'CMR'"
   ]
  },
  {
   "cell_type": "code",
   "execution_count": 3,
   "id": "eb85366f-4556-4b32-b97a-b3989cf394eb",
   "metadata": {},
   "outputs": [
    {
     "data": {
      "text/html": [
       "\n",
       "            <style>\n",
       "                .geemap-dark {\n",
       "                    --jp-widgets-color: white;\n",
       "                    --jp-widgets-label-color: white;\n",
       "                    --jp-ui-font-color1: white;\n",
       "                    --jp-layout-color2: #454545;\n",
       "                    background-color: #383838;\n",
       "                }\n",
       "\n",
       "                .geemap-dark .jupyter-button {\n",
       "                    --jp-layout-color3: #383838;\n",
       "                }\n",
       "\n",
       "                .geemap-colab {\n",
       "                    background-color: var(--colab-primary-surface-color, white);\n",
       "                }\n",
       "\n",
       "                .geemap-colab .jupyter-button {\n",
       "                    --jp-layout-color3: var(--colab-primary-surface-color, white);\n",
       "                }\n",
       "            </style>\n",
       "            "
      ],
      "text/plain": [
       "<IPython.core.display.HTML object>"
      ]
     },
     "metadata": {},
     "output_type": "display_data"
    }
   ],
   "source": [
    "classified_image = ee.Image('projects/ee-cocoacmr/assets/outputs/CMR_forest_types_v7')\n",
    "#classified_image = ee.Image('projects/ee-cocoacmr/assets/outputs/CMR_GIEC_v4')\n",
    "#classified_image = ee.Image('projects/ee-cocoacmr/assets/outputs/CMR_TNTMMU_2020_v23')"
   ]
  },
  {
   "cell_type": "code",
   "execution_count": 4,
   "id": "0588805d-e4fb-482d-9104-dc73e61374c7",
   "metadata": {},
   "outputs": [
    {
     "data": {
      "text/html": [
       "\n",
       "            <style>\n",
       "                .geemap-dark {\n",
       "                    --jp-widgets-color: white;\n",
       "                    --jp-widgets-label-color: white;\n",
       "                    --jp-ui-font-color1: white;\n",
       "                    --jp-layout-color2: #454545;\n",
       "                    background-color: #383838;\n",
       "                }\n",
       "\n",
       "                .geemap-dark .jupyter-button {\n",
       "                    --jp-layout-color3: #383838;\n",
       "                }\n",
       "\n",
       "                .geemap-colab {\n",
       "                    background-color: var(--colab-primary-surface-color, white);\n",
       "                }\n",
       "\n",
       "                .geemap-colab .jupyter-button {\n",
       "                    --jp-layout-color3: var(--colab-primary-surface-color, white);\n",
       "                }\n",
       "            </style>\n",
       "            "
      ],
      "text/plain": [
       "<IPython.core.display.HTML object>"
      ]
     },
     "metadata": {},
     "output_type": "display_data"
    }
   ],
   "source": [
    "# resolution of the map\n",
    "scale = 10"
   ]
  },
  {
   "cell_type": "code",
   "execution_count": 5,
   "id": "0b4b01ae-99dd-47d6-988a-b4a640d460d5",
   "metadata": {},
   "outputs": [
    {
     "data": {
      "text/html": [
       "\n",
       "            <style>\n",
       "                .geemap-dark {\n",
       "                    --jp-widgets-color: white;\n",
       "                    --jp-widgets-label-color: white;\n",
       "                    --jp-ui-font-color1: white;\n",
       "                    --jp-layout-color2: #454545;\n",
       "                    background-color: #383838;\n",
       "                }\n",
       "\n",
       "                .geemap-dark .jupyter-button {\n",
       "                    --jp-layout-color3: #383838;\n",
       "                }\n",
       "\n",
       "                .geemap-colab {\n",
       "                    background-color: var(--colab-primary-surface-color, white);\n",
       "                }\n",
       "\n",
       "                .geemap-colab .jupyter-button {\n",
       "                    --jp-layout-color3: var(--colab-primary-surface-color, white);\n",
       "                }\n",
       "            </style>\n",
       "            "
      ],
      "text/plain": [
       "<IPython.core.display.HTML object>"
      ]
     },
     "metadata": {},
     "output_type": "display_data"
    }
   ],
   "source": [
    "# band name for classification\n",
    "map_band = 'classification'\n",
    "#map_band = 'FNF_2020'\n",
    "#map_band = 'remapped'"
   ]
  },
  {
   "cell_type": "code",
   "execution_count": 6,
   "id": "d8e5e671-ac09-436c-a517-b71a01fe6ea9",
   "metadata": {},
   "outputs": [
    {
     "data": {
      "text/html": [
       "\n",
       "            <style>\n",
       "                .geemap-dark {\n",
       "                    --jp-widgets-color: white;\n",
       "                    --jp-widgets-label-color: white;\n",
       "                    --jp-ui-font-color1: white;\n",
       "                    --jp-layout-color2: #454545;\n",
       "                    background-color: #383838;\n",
       "                }\n",
       "\n",
       "                .geemap-dark .jupyter-button {\n",
       "                    --jp-layout-color3: #383838;\n",
       "                }\n",
       "\n",
       "                .geemap-colab {\n",
       "                    background-color: var(--colab-primary-surface-color, white);\n",
       "                }\n",
       "\n",
       "                .geemap-colab .jupyter-button {\n",
       "                    --jp-layout-color3: var(--colab-primary-surface-color, white);\n",
       "                }\n",
       "            </style>\n",
       "            "
      ],
      "text/plain": [
       "<IPython.core.display.HTML object>"
      ]
     },
     "metadata": {},
     "output_type": "display_data"
    }
   ],
   "source": [
    "# list of class codes\n",
    "#labels = [1,2,3,4,7,8,9,10,11,12,13,14,15,16,17,18]\n",
    "labels = [11,12,13,14,15,21,22,30,41,42,50,60]\n",
    "#labels = [10,20,30,40,50,60]\n",
    "#labels = [0,1]"
   ]
  },
  {
   "cell_type": "code",
   "execution_count": 7,
   "id": "be7e954c-c1b0-4ac5-9c4e-ecd273040f6d",
   "metadata": {},
   "outputs": [
    {
     "data": {
      "text/html": [
       "\n",
       "            <style>\n",
       "                .geemap-dark {\n",
       "                    --jp-widgets-color: white;\n",
       "                    --jp-widgets-label-color: white;\n",
       "                    --jp-ui-font-color1: white;\n",
       "                    --jp-layout-color2: #454545;\n",
       "                    background-color: #383838;\n",
       "                }\n",
       "\n",
       "                .geemap-dark .jupyter-button {\n",
       "                    --jp-layout-color3: #383838;\n",
       "                }\n",
       "\n",
       "                .geemap-colab {\n",
       "                    background-color: var(--colab-primary-surface-color, white);\n",
       "                }\n",
       "\n",
       "                .geemap-colab .jupyter-button {\n",
       "                    --jp-layout-color3: var(--colab-primary-surface-color, white);\n",
       "                }\n",
       "            </style>\n",
       "            "
      ],
      "text/plain": [
       "<IPython.core.display.HTML object>"
      ]
     },
     "metadata": {},
     "output_type": "display_data"
    },
    {
     "data": {
      "text/plain": [
       "Index(['index', 'plotid', 'sampleid', 'sample_internal_id', 'lon', 'lat',\n",
       "       'flagged', 'collection_time', 'sample_geom', 'pl_index', 'pl_jrcmap',\n",
       "       'pl_tcc', 'GIEC_Ref', 'FType_2020_Ref', 'AgType_2020_Ref',\n",
       "       'HumType_2020_Ref', 'collection', 'interpreted', 'GIEC_2020_Code_Ref',\n",
       "       'FNF_2020_Ref', 'FType_2020_Code_Ref', 'AgType_2020_Code_Ref',\n",
       "       'HumType_2020_Code_Ref', 'LC_2020_Code_Ref'],\n",
       "      dtype='object')"
      ]
     },
     "execution_count": 7,
     "metadata": {},
     "output_type": "execute_result"
    }
   ],
   "source": [
    "# CEO data\n",
    "interpretedData = pd.read_csv('/home/sepal-user/COCAFORI/CMR_LC_validated.csv', low_memory=False)\n",
    "interpretedData.columns"
   ]
  },
  {
   "cell_type": "code",
   "execution_count": 8,
   "id": "dab3a8f3-f8af-472d-a88d-2d698f7d8f76",
   "metadata": {},
   "outputs": [
    {
     "data": {
      "text/html": [
       "\n",
       "            <style>\n",
       "                .geemap-dark {\n",
       "                    --jp-widgets-color: white;\n",
       "                    --jp-widgets-label-color: white;\n",
       "                    --jp-ui-font-color1: white;\n",
       "                    --jp-layout-color2: #454545;\n",
       "                    background-color: #383838;\n",
       "                }\n",
       "\n",
       "                .geemap-dark .jupyter-button {\n",
       "                    --jp-layout-color3: #383838;\n",
       "                }\n",
       "\n",
       "                .geemap-colab {\n",
       "                    background-color: var(--colab-primary-surface-color, white);\n",
       "                }\n",
       "\n",
       "                .geemap-colab .jupyter-button {\n",
       "                    --jp-layout-color3: var(--colab-primary-surface-color, white);\n",
       "                }\n",
       "            </style>\n",
       "            "
      ],
      "text/plain": [
       "<IPython.core.display.HTML object>"
      ]
     },
     "metadata": {},
     "output_type": "display_data"
    },
    {
     "data": {
      "text/plain": [
       "2417"
      ]
     },
     "execution_count": 8,
     "metadata": {},
     "output_type": "execute_result"
    }
   ],
   "source": [
    "len(interpretedData)"
   ]
  },
  {
   "cell_type": "code",
   "execution_count": 9,
   "id": "9b022b74-9fc7-4158-8fd4-ee84c7fddecb",
   "metadata": {},
   "outputs": [
    {
     "data": {
      "text/html": [
       "\n",
       "            <style>\n",
       "                .geemap-dark {\n",
       "                    --jp-widgets-color: white;\n",
       "                    --jp-widgets-label-color: white;\n",
       "                    --jp-ui-font-color1: white;\n",
       "                    --jp-layout-color2: #454545;\n",
       "                    background-color: #383838;\n",
       "                }\n",
       "\n",
       "                .geemap-dark .jupyter-button {\n",
       "                    --jp-layout-color3: #383838;\n",
       "                }\n",
       "\n",
       "                .geemap-colab {\n",
       "                    background-color: var(--colab-primary-surface-color, white);\n",
       "                }\n",
       "\n",
       "                .geemap-colab .jupyter-button {\n",
       "                    --jp-layout-color3: var(--colab-primary-surface-color, white);\n",
       "                }\n",
       "            </style>\n",
       "            "
      ],
      "text/plain": [
       "<IPython.core.display.HTML object>"
      ]
     },
     "metadata": {},
     "output_type": "display_data"
    }
   ],
   "source": [
    "# column with LC code\n",
    "ref_column = 'LC_2020_Code_Ref'\n",
    "#ref_column = 'GIEC_2020_Code_Ref'\n",
    "#ref_column = 'FNF_2020_Ref'"
   ]
  },
  {
   "cell_type": "code",
   "execution_count": 10,
   "id": "03a962d9-ef53-4fac-8a77-0ff7940764fa",
   "metadata": {},
   "outputs": [
    {
     "data": {
      "text/html": [
       "\n",
       "            <style>\n",
       "                .geemap-dark {\n",
       "                    --jp-widgets-color: white;\n",
       "                    --jp-widgets-label-color: white;\n",
       "                    --jp-ui-font-color1: white;\n",
       "                    --jp-layout-color2: #454545;\n",
       "                    background-color: #383838;\n",
       "                }\n",
       "\n",
       "                .geemap-dark .jupyter-button {\n",
       "                    --jp-layout-color3: #383838;\n",
       "                }\n",
       "\n",
       "                .geemap-colab {\n",
       "                    background-color: var(--colab-primary-surface-color, white);\n",
       "                }\n",
       "\n",
       "                .geemap-colab .jupyter-button {\n",
       "                    --jp-layout-color3: var(--colab-primary-surface-color, white);\n",
       "                }\n",
       "            </style>\n",
       "            "
      ],
      "text/plain": [
       "<IPython.core.display.HTML object>"
      ]
     },
     "metadata": {},
     "output_type": "display_data"
    }
   ],
   "source": [
    "# name out class area outputs file\n",
    "area_out = '/home/sepal-user/COCAFORI/CMR_2020_LC_types_areas.csv'"
   ]
  },
  {
   "cell_type": "code",
   "execution_count": 11,
   "id": "bc3aad05-db54-46a0-9c85-3b857913afcd",
   "metadata": {},
   "outputs": [
    {
     "data": {
      "text/html": [
       "\n",
       "            <style>\n",
       "                .geemap-dark {\n",
       "                    --jp-widgets-color: white;\n",
       "                    --jp-widgets-label-color: white;\n",
       "                    --jp-ui-font-color1: white;\n",
       "                    --jp-layout-color2: #454545;\n",
       "                    background-color: #383838;\n",
       "                }\n",
       "\n",
       "                .geemap-dark .jupyter-button {\n",
       "                    --jp-layout-color3: #383838;\n",
       "                }\n",
       "\n",
       "                .geemap-colab {\n",
       "                    background-color: var(--colab-primary-surface-color, white);\n",
       "                }\n",
       "\n",
       "                .geemap-colab .jupyter-button {\n",
       "                    --jp-layout-color3: var(--colab-primary-surface-color, white);\n",
       "                }\n",
       "            </style>\n",
       "            "
      ],
      "text/plain": [
       "<IPython.core.display.HTML object>"
      ]
     },
     "metadata": {},
     "output_type": "display_data"
    }
   ],
   "source": [
    "#name of output file with reference and map data\n",
    "table_out = '/home/sepal-user/COCAFORI/CMR_2020_LC_types_ceo_ref_val.csv'"
   ]
  },
  {
   "cell_type": "code",
   "execution_count": 12,
   "id": "b9030ab7-4118-4f04-b2fb-f1ce0999243b",
   "metadata": {},
   "outputs": [
    {
     "data": {
      "text/html": [
       "\n",
       "            <style>\n",
       "                .geemap-dark {\n",
       "                    --jp-widgets-color: white;\n",
       "                    --jp-widgets-label-color: white;\n",
       "                    --jp-ui-font-color1: white;\n",
       "                    --jp-layout-color2: #454545;\n",
       "                    background-color: #383838;\n",
       "                }\n",
       "\n",
       "                .geemap-dark .jupyter-button {\n",
       "                    --jp-layout-color3: #383838;\n",
       "                }\n",
       "\n",
       "                .geemap-colab {\n",
       "                    background-color: var(--colab-primary-surface-color, white);\n",
       "                }\n",
       "\n",
       "                .geemap-colab .jupyter-button {\n",
       "                    --jp-layout-color3: var(--colab-primary-surface-color, white);\n",
       "                }\n",
       "            </style>\n",
       "            "
      ],
      "text/plain": [
       "<IPython.core.display.HTML object>"
      ]
     },
     "metadata": {},
     "output_type": "display_data"
    }
   ],
   "source": [
    "#name of output error matrix\n",
    "#matrix_out = '/home/sepal-user/COCAFORI/CMR_2020_LC_types_ref_val_matrix.csv'"
   ]
  },
  {
   "cell_type": "markdown",
   "id": "33812e55-3f0f-4e68-a6ec-7d11dcc8b7aa",
   "metadata": {},
   "source": [
    "### 2 - Get map areas"
   ]
  },
  {
   "cell_type": "code",
   "execution_count": 13,
   "id": "9a71bcdf-4eb2-4339-911e-e1fc0f3f43b0",
   "metadata": {},
   "outputs": [
    {
     "data": {
      "text/html": [
       "\n",
       "            <style>\n",
       "                .geemap-dark {\n",
       "                    --jp-widgets-color: white;\n",
       "                    --jp-widgets-label-color: white;\n",
       "                    --jp-ui-font-color1: white;\n",
       "                    --jp-layout-color2: #454545;\n",
       "                    background-color: #383838;\n",
       "                }\n",
       "\n",
       "                .geemap-dark .jupyter-button {\n",
       "                    --jp-layout-color3: #383838;\n",
       "                }\n",
       "\n",
       "                .geemap-colab {\n",
       "                    background-color: var(--colab-primary-surface-color, white);\n",
       "                }\n",
       "\n",
       "                .geemap-colab .jupyter-button {\n",
       "                    --jp-layout-color3: var(--colab-primary-surface-color, white);\n",
       "                }\n",
       "            </style>\n",
       "            "
      ],
      "text/plain": [
       "<IPython.core.display.HTML object>"
      ]
     },
     "metadata": {},
     "output_type": "display_data"
    }
   ],
   "source": [
    "aoi = ee.FeatureCollection('projects/ee-cocoacmr/assets/admin/cmr_admbnda_adm0')"
   ]
  },
  {
   "cell_type": "code",
   "execution_count": 14,
   "id": "d4398d59-eee1-4dc3-85a8-f88857dacf60",
   "metadata": {},
   "outputs": [
    {
     "data": {
      "text/html": [
       "\n",
       "            <style>\n",
       "                .geemap-dark {\n",
       "                    --jp-widgets-color: white;\n",
       "                    --jp-widgets-label-color: white;\n",
       "                    --jp-ui-font-color1: white;\n",
       "                    --jp-layout-color2: #454545;\n",
       "                    background-color: #383838;\n",
       "                }\n",
       "\n",
       "                .geemap-dark .jupyter-button {\n",
       "                    --jp-layout-color3: #383838;\n",
       "                }\n",
       "\n",
       "                .geemap-colab {\n",
       "                    background-color: var(--colab-primary-surface-color, white);\n",
       "                }\n",
       "\n",
       "                .geemap-colab .jupyter-button {\n",
       "                    --jp-layout-color3: var(--colab-primary-surface-color, white);\n",
       "                }\n",
       "            </style>\n",
       "            "
      ],
      "text/plain": [
       "<IPython.core.display.HTML object>"
      ]
     },
     "metadata": {},
     "output_type": "display_data"
    }
   ],
   "source": [
    "# Add the area for each pixel\n",
    "pixelArea = ee.Image.pixelArea().clip(aoi)\n",
    "# Multiply pixel area by the class to get the area per class\n",
    "area_image = pixelArea.addBands(classified_image)"
   ]
  },
  {
   "cell_type": "code",
   "execution_count": 15,
   "id": "1c57fb7e-6614-492c-b465-73c1aa3e33db",
   "metadata": {},
   "outputs": [
    {
     "data": {
      "text/html": [
       "\n",
       "            <style>\n",
       "                .geemap-dark {\n",
       "                    --jp-widgets-color: white;\n",
       "                    --jp-widgets-label-color: white;\n",
       "                    --jp-ui-font-color1: white;\n",
       "                    --jp-layout-color2: #454545;\n",
       "                    background-color: #383838;\n",
       "                }\n",
       "\n",
       "                .geemap-dark .jupyter-button {\n",
       "                    --jp-layout-color3: #383838;\n",
       "                }\n",
       "\n",
       "                .geemap-colab {\n",
       "                    background-color: var(--colab-primary-surface-color, white);\n",
       "                }\n",
       "\n",
       "                .geemap-colab .jupyter-button {\n",
       "                    --jp-layout-color3: var(--colab-primary-surface-color, white);\n",
       "                }\n",
       "            </style>\n",
       "            "
      ],
      "text/plain": [
       "<IPython.core.display.HTML object>"
      ]
     },
     "metadata": {},
     "output_type": "display_data"
    }
   ],
   "source": [
    "# Reduce the region by summing up the areas per class\n",
    "class_areas = area_image.reduceRegion(\n",
    "    reducer=ee.Reducer.sum().group(groupField=1, groupName='class'),\n",
    "    geometry=classified_image.geometry(),\n",
    "    scale=70,  # Adjust scale according to your image resolution\n",
    "    maxPixels=1e12\n",
    ")"
   ]
  },
  {
   "cell_type": "code",
   "execution_count": 16,
   "id": "4ea5b043-df96-499b-abbf-c192753225f1",
   "metadata": {},
   "outputs": [
    {
     "data": {
      "text/html": [
       "\n",
       "            <style>\n",
       "                .geemap-dark {\n",
       "                    --jp-widgets-color: white;\n",
       "                    --jp-widgets-label-color: white;\n",
       "                    --jp-ui-font-color1: white;\n",
       "                    --jp-layout-color2: #454545;\n",
       "                    background-color: #383838;\n",
       "                }\n",
       "\n",
       "                .geemap-dark .jupyter-button {\n",
       "                    --jp-layout-color3: #383838;\n",
       "                }\n",
       "\n",
       "                .geemap-colab {\n",
       "                    background-color: var(--colab-primary-surface-color, white);\n",
       "                }\n",
       "\n",
       "                .geemap-colab .jupyter-button {\n",
       "                    --jp-layout-color3: var(--colab-primary-surface-color, white);\n",
       "                }\n",
       "            </style>\n",
       "            "
      ],
      "text/plain": [
       "<IPython.core.display.HTML object>"
      ]
     },
     "metadata": {},
     "output_type": "display_data"
    },
    {
     "name": "stdout",
     "output_type": "stream",
     "text": [
      "    Class    Area (ha)\n",
      "0      11 28080132.686\n",
      "1      12  3007135.851\n",
      "2      13  1178681.853\n",
      "3      14   200834.295\n",
      "4      15  1645777.896\n",
      "5      21   129711.072\n",
      "6      22  3029716.536\n",
      "7      30  7969771.245\n",
      "8      41   485950.285\n",
      "9      42   287862.464\n",
      "10     50   231220.751\n",
      "11     60   341001.725\n"
     ]
    }
   ],
   "source": [
    "# Assuming class_areas is already defined and contains the necessary data\n",
    "class_areas_dict = class_areas.getInfo()\n",
    "\n",
    "# Prepare the data for the DataFrame\n",
    "data = []\n",
    "for item in class_areas_dict['groups']:\n",
    "    area_ha = item['sum'] / 10000  # Convert square meters to hectares\n",
    "    data.append({\n",
    "        'Class': item['class'],\n",
    "        'Area (ha)': area_ha\n",
    "    })\n",
    "\n",
    "# Convert the list of dictionaries to a DataFrame\n",
    "areas_df = pd.DataFrame(data)\n",
    "\n",
    "# Display the DataFrame\n",
    "print(areas_df)"
   ]
  },
  {
   "cell_type": "markdown",
   "id": "63508a96-50fe-4be5-a572-da44b70c6f63",
   "metadata": {},
   "source": [
    "### 3 sample map with validation points "
   ]
  },
  {
   "cell_type": "code",
   "execution_count": 17,
   "id": "1ed9a3a7-d703-42bc-8ed6-cc2d92065239",
   "metadata": {},
   "outputs": [
    {
     "data": {
      "text/html": [
       "\n",
       "            <style>\n",
       "                .geemap-dark {\n",
       "                    --jp-widgets-color: white;\n",
       "                    --jp-widgets-label-color: white;\n",
       "                    --jp-ui-font-color1: white;\n",
       "                    --jp-layout-color2: #454545;\n",
       "                    background-color: #383838;\n",
       "                }\n",
       "\n",
       "                .geemap-dark .jupyter-button {\n",
       "                    --jp-layout-color3: #383838;\n",
       "                }\n",
       "\n",
       "                .geemap-colab {\n",
       "                    background-color: var(--colab-primary-surface-color, white);\n",
       "                }\n",
       "\n",
       "                .geemap-colab .jupyter-button {\n",
       "                    --jp-layout-color3: var(--colab-primary-surface-color, white);\n",
       "                }\n",
       "            </style>\n",
       "            "
      ],
      "text/plain": [
       "<IPython.core.display.HTML object>"
      ]
     },
     "metadata": {},
     "output_type": "display_data"
    },
    {
     "data": {
      "text/html": [
       "<div>\n",
       "<style scoped>\n",
       "    .dataframe tbody tr th:only-of-type {\n",
       "        vertical-align: middle;\n",
       "    }\n",
       "\n",
       "    .dataframe tbody tr th {\n",
       "        vertical-align: top;\n",
       "    }\n",
       "\n",
       "    .dataframe thead th {\n",
       "        text-align: right;\n",
       "    }\n",
       "</style>\n",
       "<table border=\"1\" class=\"dataframe\">\n",
       "  <thead>\n",
       "    <tr style=\"text-align: right;\">\n",
       "      <th></th>\n",
       "      <th>index</th>\n",
       "      <th>plotid</th>\n",
       "      <th>sampleid</th>\n",
       "      <th>collection</th>\n",
       "      <th>LC_2020_Code_Ref</th>\n",
       "      <th>lon</th>\n",
       "      <th>lat</th>\n",
       "      <th>geometry</th>\n",
       "    </tr>\n",
       "  </thead>\n",
       "  <tbody>\n",
       "    <tr>\n",
       "      <th>0</th>\n",
       "      <td>0</td>\n",
       "      <td>2</td>\n",
       "      <td>2</td>\n",
       "      <td>1</td>\n",
       "      <td>30</td>\n",
       "      <td>13.157</td>\n",
       "      <td>9.445</td>\n",
       "      <td>POINT (13.15682 9.44489)</td>\n",
       "    </tr>\n",
       "    <tr>\n",
       "      <th>1</th>\n",
       "      <td>1</td>\n",
       "      <td>4</td>\n",
       "      <td>4</td>\n",
       "      <td>1</td>\n",
       "      <td>12</td>\n",
       "      <td>14.299</td>\n",
       "      <td>7.777</td>\n",
       "      <td>POINT (14.29857 7.77672)</td>\n",
       "    </tr>\n",
       "    <tr>\n",
       "      <th>2</th>\n",
       "      <td>2</td>\n",
       "      <td>7</td>\n",
       "      <td>7</td>\n",
       "      <td>1</td>\n",
       "      <td>30</td>\n",
       "      <td>14.741</td>\n",
       "      <td>11.144</td>\n",
       "      <td>POINT (14.74055 11.1445)</td>\n",
       "    </tr>\n",
       "    <tr>\n",
       "      <th>3</th>\n",
       "      <td>3</td>\n",
       "      <td>6</td>\n",
       "      <td>6</td>\n",
       "      <td>1</td>\n",
       "      <td>30</td>\n",
       "      <td>13.760</td>\n",
       "      <td>8.647</td>\n",
       "      <td>POINT (13.75959 8.64718)</td>\n",
       "    </tr>\n",
       "    <tr>\n",
       "      <th>4</th>\n",
       "      <td>4</td>\n",
       "      <td>8</td>\n",
       "      <td>8</td>\n",
       "      <td>1</td>\n",
       "      <td>11</td>\n",
       "      <td>13.101</td>\n",
       "      <td>4.403</td>\n",
       "      <td>POINT (13.10112 4.40264)</td>\n",
       "    </tr>\n",
       "    <tr>\n",
       "      <th>...</th>\n",
       "      <td>...</td>\n",
       "      <td>...</td>\n",
       "      <td>...</td>\n",
       "      <td>...</td>\n",
       "      <td>...</td>\n",
       "      <td>...</td>\n",
       "      <td>...</td>\n",
       "      <td>...</td>\n",
       "    </tr>\n",
       "    <tr>\n",
       "      <th>2412</th>\n",
       "      <td>2412</td>\n",
       "      <td>1994</td>\n",
       "      <td>1994</td>\n",
       "      <td>6</td>\n",
       "      <td>22</td>\n",
       "      <td>14.563</td>\n",
       "      <td>11.449</td>\n",
       "      <td>POINT (14.5629 11.44925)</td>\n",
       "    </tr>\n",
       "    <tr>\n",
       "      <th>2413</th>\n",
       "      <td>2413</td>\n",
       "      <td>1927</td>\n",
       "      <td>1927</td>\n",
       "      <td>6</td>\n",
       "      <td>22</td>\n",
       "      <td>13.865</td>\n",
       "      <td>10.371</td>\n",
       "      <td>POINT (13.86491 10.37083)</td>\n",
       "    </tr>\n",
       "    <tr>\n",
       "      <th>2414</th>\n",
       "      <td>2414</td>\n",
       "      <td>1985</td>\n",
       "      <td>1985</td>\n",
       "      <td>6</td>\n",
       "      <td>22</td>\n",
       "      <td>13.137</td>\n",
       "      <td>9.016</td>\n",
       "      <td>POINT (13.13737 9.01635)</td>\n",
       "    </tr>\n",
       "    <tr>\n",
       "      <th>2415</th>\n",
       "      <td>2415</td>\n",
       "      <td>1920</td>\n",
       "      <td>1920</td>\n",
       "      <td>6</td>\n",
       "      <td>15</td>\n",
       "      <td>11.046</td>\n",
       "      <td>4.097</td>\n",
       "      <td>POINT (11.04591 4.09708)</td>\n",
       "    </tr>\n",
       "    <tr>\n",
       "      <th>2416</th>\n",
       "      <td>2416</td>\n",
       "      <td>1922</td>\n",
       "      <td>1922</td>\n",
       "      <td>6</td>\n",
       "      <td>11</td>\n",
       "      <td>13.964</td>\n",
       "      <td>4.615</td>\n",
       "      <td>POINT (13.96427 4.6146)</td>\n",
       "    </tr>\n",
       "  </tbody>\n",
       "</table>\n",
       "<p>2417 rows × 8 columns</p>\n",
       "</div>"
      ],
      "text/plain": [
       "      index  plotid  sampleid  collection  LC_2020_Code_Ref    lon    lat  \\\n",
       "0         0       2         2           1                30 13.157  9.445   \n",
       "1         1       4         4           1                12 14.299  7.777   \n",
       "2         2       7         7           1                30 14.741 11.144   \n",
       "3         3       6         6           1                30 13.760  8.647   \n",
       "4         4       8         8           1                11 13.101  4.403   \n",
       "...     ...     ...       ...         ...               ...    ...    ...   \n",
       "2412   2412    1994      1994           6                22 14.563 11.449   \n",
       "2413   2413    1927      1927           6                22 13.865 10.371   \n",
       "2414   2414    1985      1985           6                22 13.137  9.016   \n",
       "2415   2415    1920      1920           6                15 11.046  4.097   \n",
       "2416   2416    1922      1922           6                11 13.964  4.615   \n",
       "\n",
       "                       geometry  \n",
       "0      POINT (13.15682 9.44489)  \n",
       "1      POINT (14.29857 7.77672)  \n",
       "2      POINT (14.74055 11.1445)  \n",
       "3      POINT (13.75959 8.64718)  \n",
       "4      POINT (13.10112 4.40264)  \n",
       "...                         ...  \n",
       "2412   POINT (14.5629 11.44925)  \n",
       "2413  POINT (13.86491 10.37083)  \n",
       "2414   POINT (13.13737 9.01635)  \n",
       "2415   POINT (11.04591 4.09708)  \n",
       "2416    POINT (13.96427 4.6146)  \n",
       "\n",
       "[2417 rows x 8 columns]"
      ]
     },
     "execution_count": 17,
     "metadata": {},
     "output_type": "execute_result"
    }
   ],
   "source": [
    "gdf = gpd.GeoDataFrame(interpretedData[['index', 'plotid', 'sampleid', 'collection', ref_column, 'lon', 'lat']], geometry=gpd.points_from_xy(interpretedData.lon, interpretedData.lat), crs='epsg:4326')\n",
    "gdf"
   ]
  },
  {
   "cell_type": "markdown",
   "id": "6a52b711-a766-4278-89f8-43edcbdd6d74",
   "metadata": {},
   "source": [
    "### be patient this can take a while with a large number of points"
   ]
  },
  {
   "cell_type": "code",
   "execution_count": 18,
   "id": "75bfbec5-7852-4b2a-a3a1-03221a4c7c3d",
   "metadata": {},
   "outputs": [
    {
     "data": {
      "text/html": [
       "\n",
       "            <style>\n",
       "                .geemap-dark {\n",
       "                    --jp-widgets-color: white;\n",
       "                    --jp-widgets-label-color: white;\n",
       "                    --jp-ui-font-color1: white;\n",
       "                    --jp-layout-color2: #454545;\n",
       "                    background-color: #383838;\n",
       "                }\n",
       "\n",
       "                .geemap-dark .jupyter-button {\n",
       "                    --jp-layout-color3: #383838;\n",
       "                }\n",
       "\n",
       "                .geemap-colab {\n",
       "                    background-color: var(--colab-primary-surface-color, white);\n",
       "                }\n",
       "\n",
       "                .geemap-colab .jupyter-button {\n",
       "                    --jp-layout-color3: var(--colab-primary-surface-color, white);\n",
       "                }\n",
       "            </style>\n",
       "            "
      ],
      "text/plain": [
       "<IPython.core.display.HTML object>"
      ]
     },
     "metadata": {},
     "output_type": "display_data"
    }
   ],
   "source": [
    "dfs = []\n",
    "for i in range(0, len(interpretedData), 5000):\n",
    "    tmp_df = gdf.loc[i:i+4999]\n",
    "    tmp_fc = geemap.gdf_to_ee(tmp_df[['index','plotid', 'sampleid', 'collection', ref_column, 'geometry']])\n",
    "    tmp_smp = classified_image.select(map_band).reduceRegions(**{\n",
    "        'collection': tmp_fc,\n",
    "        'scale': scale,\n",
    "        'reducer': ee.Reducer.first()   \n",
    "    })\n",
    "\n",
    "    tmp_res = geemap.ee_to_gdf(tmp_smp)\n",
    "    dfs.append(tmp_res)\n",
    "    \n",
    "results_df = pd.concat(dfs)"
   ]
  },
  {
   "cell_type": "code",
   "execution_count": 19,
   "id": "3eebdd06-5a18-4b0c-895b-c466ca08baa9",
   "metadata": {},
   "outputs": [
    {
     "data": {
      "text/html": [
       "\n",
       "            <style>\n",
       "                .geemap-dark {\n",
       "                    --jp-widgets-color: white;\n",
       "                    --jp-widgets-label-color: white;\n",
       "                    --jp-ui-font-color1: white;\n",
       "                    --jp-layout-color2: #454545;\n",
       "                    background-color: #383838;\n",
       "                }\n",
       "\n",
       "                .geemap-dark .jupyter-button {\n",
       "                    --jp-layout-color3: #383838;\n",
       "                }\n",
       "\n",
       "                .geemap-colab {\n",
       "                    background-color: var(--colab-primary-surface-color, white);\n",
       "                }\n",
       "\n",
       "                .geemap-colab .jupyter-button {\n",
       "                    --jp-layout-color3: var(--colab-primary-surface-color, white);\n",
       "                }\n",
       "            </style>\n",
       "            "
      ],
      "text/plain": [
       "<IPython.core.display.HTML object>"
      ]
     },
     "metadata": {},
     "output_type": "display_data"
    },
    {
     "data": {
      "text/html": [
       "<div>\n",
       "<style scoped>\n",
       "    .dataframe tbody tr th:only-of-type {\n",
       "        vertical-align: middle;\n",
       "    }\n",
       "\n",
       "    .dataframe tbody tr th {\n",
       "        vertical-align: top;\n",
       "    }\n",
       "\n",
       "    .dataframe thead th {\n",
       "        text-align: right;\n",
       "    }\n",
       "</style>\n",
       "<table border=\"1\" class=\"dataframe\">\n",
       "  <thead>\n",
       "    <tr style=\"text-align: right;\">\n",
       "      <th></th>\n",
       "      <th>geometry</th>\n",
       "      <th>LC_2020_Code_Ref</th>\n",
       "      <th>collection</th>\n",
       "      <th>LC_2020_Map</th>\n",
       "      <th>index</th>\n",
       "      <th>plotid</th>\n",
       "      <th>sampleid</th>\n",
       "    </tr>\n",
       "  </thead>\n",
       "  <tbody>\n",
       "    <tr>\n",
       "      <th>0</th>\n",
       "      <td>POINT (13.15682 9.44489)</td>\n",
       "      <td>30</td>\n",
       "      <td>1</td>\n",
       "      <td>30</td>\n",
       "      <td>0</td>\n",
       "      <td>2</td>\n",
       "      <td>2</td>\n",
       "    </tr>\n",
       "    <tr>\n",
       "      <th>1</th>\n",
       "      <td>POINT (14.29857 7.77672)</td>\n",
       "      <td>12</td>\n",
       "      <td>1</td>\n",
       "      <td>11</td>\n",
       "      <td>1</td>\n",
       "      <td>4</td>\n",
       "      <td>4</td>\n",
       "    </tr>\n",
       "    <tr>\n",
       "      <th>2</th>\n",
       "      <td>POINT (14.74055 11.1445)</td>\n",
       "      <td>30</td>\n",
       "      <td>1</td>\n",
       "      <td>30</td>\n",
       "      <td>2</td>\n",
       "      <td>7</td>\n",
       "      <td>7</td>\n",
       "    </tr>\n",
       "    <tr>\n",
       "      <th>3</th>\n",
       "      <td>POINT (13.75959 8.64718)</td>\n",
       "      <td>30</td>\n",
       "      <td>1</td>\n",
       "      <td>30</td>\n",
       "      <td>3</td>\n",
       "      <td>6</td>\n",
       "      <td>6</td>\n",
       "    </tr>\n",
       "    <tr>\n",
       "      <th>4</th>\n",
       "      <td>POINT (13.10112 4.40264)</td>\n",
       "      <td>11</td>\n",
       "      <td>1</td>\n",
       "      <td>11</td>\n",
       "      <td>4</td>\n",
       "      <td>8</td>\n",
       "      <td>8</td>\n",
       "    </tr>\n",
       "    <tr>\n",
       "      <th>...</th>\n",
       "      <td>...</td>\n",
       "      <td>...</td>\n",
       "      <td>...</td>\n",
       "      <td>...</td>\n",
       "      <td>...</td>\n",
       "      <td>...</td>\n",
       "      <td>...</td>\n",
       "    </tr>\n",
       "    <tr>\n",
       "      <th>2412</th>\n",
       "      <td>POINT (14.5629 11.44925)</td>\n",
       "      <td>22</td>\n",
       "      <td>6</td>\n",
       "      <td>41</td>\n",
       "      <td>2412</td>\n",
       "      <td>1994</td>\n",
       "      <td>1994</td>\n",
       "    </tr>\n",
       "    <tr>\n",
       "      <th>2413</th>\n",
       "      <td>POINT (13.86491 10.37083)</td>\n",
       "      <td>22</td>\n",
       "      <td>6</td>\n",
       "      <td>22</td>\n",
       "      <td>2413</td>\n",
       "      <td>1927</td>\n",
       "      <td>1927</td>\n",
       "    </tr>\n",
       "    <tr>\n",
       "      <th>2414</th>\n",
       "      <td>POINT (13.13737 9.01635)</td>\n",
       "      <td>22</td>\n",
       "      <td>6</td>\n",
       "      <td>22</td>\n",
       "      <td>2414</td>\n",
       "      <td>1985</td>\n",
       "      <td>1985</td>\n",
       "    </tr>\n",
       "    <tr>\n",
       "      <th>2415</th>\n",
       "      <td>POINT (11.04591 4.09708)</td>\n",
       "      <td>15</td>\n",
       "      <td>6</td>\n",
       "      <td>12</td>\n",
       "      <td>2415</td>\n",
       "      <td>1920</td>\n",
       "      <td>1920</td>\n",
       "    </tr>\n",
       "    <tr>\n",
       "      <th>2416</th>\n",
       "      <td>POINT (13.96427 4.6146)</td>\n",
       "      <td>11</td>\n",
       "      <td>6</td>\n",
       "      <td>11</td>\n",
       "      <td>2416</td>\n",
       "      <td>1922</td>\n",
       "      <td>1922</td>\n",
       "    </tr>\n",
       "  </tbody>\n",
       "</table>\n",
       "<p>2417 rows × 7 columns</p>\n",
       "</div>"
      ],
      "text/plain": [
       "                       geometry  LC_2020_Code_Ref  collection  LC_2020_Map  \\\n",
       "0      POINT (13.15682 9.44489)                30           1           30   \n",
       "1      POINT (14.29857 7.77672)                12           1           11   \n",
       "2      POINT (14.74055 11.1445)                30           1           30   \n",
       "3      POINT (13.75959 8.64718)                30           1           30   \n",
       "4      POINT (13.10112 4.40264)                11           1           11   \n",
       "...                         ...               ...         ...          ...   \n",
       "2412   POINT (14.5629 11.44925)                22           6           41   \n",
       "2413  POINT (13.86491 10.37083)                22           6           22   \n",
       "2414   POINT (13.13737 9.01635)                22           6           22   \n",
       "2415   POINT (11.04591 4.09708)                15           6           12   \n",
       "2416    POINT (13.96427 4.6146)                11           6           11   \n",
       "\n",
       "      index  plotid  sampleid  \n",
       "0         0       2         2  \n",
       "1         1       4         4  \n",
       "2         2       7         7  \n",
       "3         3       6         6  \n",
       "4         4       8         8  \n",
       "...     ...     ...       ...  \n",
       "2412   2412    1994      1994  \n",
       "2413   2413    1927      1927  \n",
       "2414   2414    1985      1985  \n",
       "2415   2415    1920      1920  \n",
       "2416   2416    1922      1922  \n",
       "\n",
       "[2417 rows x 7 columns]"
      ]
     },
     "execution_count": 19,
     "metadata": {},
     "output_type": "execute_result"
    }
   ],
   "source": [
    "#map_column = 'GIEC_2020_Map'\n",
    "map_column = 'LC_2020_Map'\n",
    "#map_column = 'TNT_2020_Map'\n",
    "results_df = results_df.rename(columns={'first':map_column})\n",
    "#results_df = results_df.rename(columns={'first': map_column})\n",
    "results_df"
   ]
  },
  {
   "cell_type": "code",
   "execution_count": 20,
   "id": "cd127e33-f710-4378-be16-807dae211a7a",
   "metadata": {},
   "outputs": [
    {
     "data": {
      "text/html": [
       "\n",
       "            <style>\n",
       "                .geemap-dark {\n",
       "                    --jp-widgets-color: white;\n",
       "                    --jp-widgets-label-color: white;\n",
       "                    --jp-ui-font-color1: white;\n",
       "                    --jp-layout-color2: #454545;\n",
       "                    background-color: #383838;\n",
       "                }\n",
       "\n",
       "                .geemap-dark .jupyter-button {\n",
       "                    --jp-layout-color3: #383838;\n",
       "                }\n",
       "\n",
       "                .geemap-colab {\n",
       "                    background-color: var(--colab-primary-surface-color, white);\n",
       "                }\n",
       "\n",
       "                .geemap-colab .jupyter-button {\n",
       "                    --jp-layout-color3: var(--colab-primary-surface-color, white);\n",
       "                }\n",
       "            </style>\n",
       "            "
      ],
      "text/plain": [
       "<IPython.core.display.HTML object>"
      ]
     },
     "metadata": {},
     "output_type": "display_data"
    }
   ],
   "source": [
    "#export table with map and reference\n",
    "results_df.to_csv(table_out,index=False)"
   ]
  },
  {
   "cell_type": "code",
   "execution_count": 21,
   "id": "54b205e4-bc0e-449e-9118-f5772e4a6e18",
   "metadata": {},
   "outputs": [
    {
     "data": {
      "text/html": [
       "\n",
       "            <style>\n",
       "                .geemap-dark {\n",
       "                    --jp-widgets-color: white;\n",
       "                    --jp-widgets-label-color: white;\n",
       "                    --jp-ui-font-color1: white;\n",
       "                    --jp-layout-color2: #454545;\n",
       "                    background-color: #383838;\n",
       "                }\n",
       "\n",
       "                .geemap-dark .jupyter-button {\n",
       "                    --jp-layout-color3: #383838;\n",
       "                }\n",
       "\n",
       "                .geemap-colab {\n",
       "                    background-color: var(--colab-primary-surface-color, white);\n",
       "                }\n",
       "\n",
       "                .geemap-colab .jupyter-button {\n",
       "                    --jp-layout-color3: var(--colab-primary-surface-color, white);\n",
       "                }\n",
       "            </style>\n",
       "            "
      ],
      "text/plain": [
       "<IPython.core.display.HTML object>"
      ]
     },
     "metadata": {},
     "output_type": "display_data"
    }
   ],
   "source": [
    "conf_matrix = confusion_matrix(results_df[ref_column], results_df[map_column], labels=labels)"
   ]
  },
  {
   "cell_type": "code",
   "execution_count": 22,
   "id": "10cc090f-aad4-434b-a4e0-ec2ec6d1497f",
   "metadata": {},
   "outputs": [
    {
     "data": {
      "text/html": [
       "\n",
       "            <style>\n",
       "                .geemap-dark {\n",
       "                    --jp-widgets-color: white;\n",
       "                    --jp-widgets-label-color: white;\n",
       "                    --jp-ui-font-color1: white;\n",
       "                    --jp-layout-color2: #454545;\n",
       "                    background-color: #383838;\n",
       "                }\n",
       "\n",
       "                .geemap-dark .jupyter-button {\n",
       "                    --jp-layout-color3: #383838;\n",
       "                }\n",
       "\n",
       "                .geemap-colab {\n",
       "                    background-color: var(--colab-primary-surface-color, white);\n",
       "                }\n",
       "\n",
       "                .geemap-colab .jupyter-button {\n",
       "                    --jp-layout-color3: var(--colab-primary-surface-color, white);\n",
       "                }\n",
       "            </style>\n",
       "            "
      ],
      "text/plain": [
       "<IPython.core.display.HTML object>"
      ]
     },
     "metadata": {},
     "output_type": "display_data"
    },
    {
     "name": "stdout",
     "output_type": "stream",
     "text": [
      "F1 score per class:\n",
      "Class 11: 0.7749\n",
      "Class 12: 0.3200\n",
      "Class 13: 0.2781\n",
      "Class 14: 0.9444\n",
      "Class 15: 0.4855\n",
      "Class 21: 0.6667\n",
      "Class 22: 0.5640\n",
      "Class 30: 0.6741\n",
      "Class 41: 0.4946\n",
      "Class 42: 0.7576\n",
      "Class 50: 0.7692\n",
      "Class 60: 0.2667\n",
      "\n",
      "Macro F1-score: 0.5830\n",
      "Weighted F1-score: 0.6221\n"
     ]
    }
   ],
   "source": [
    "# Calculate F1 score per class (individual F1 scores for each class)\n",
    "f1_per_class = f1_score(results_df[ref_column], results_df[map_column], labels=labels, average=None)\n",
    "\n",
    "# Print F1 score per class\n",
    "print(\"F1 score per class:\")\n",
    "for i, class_label in enumerate(labels):\n",
    "    print(f\"Class {class_label}: {f1_per_class[i]:.4f}\")\n",
    "\n",
    "# Optionally, also print the macro and weighted F1 scores\n",
    "f1_macro = f1_score(results_df[ref_column], results_df[map_column], labels=labels, average='macro')\n",
    "f1_weighted = f1_score(results_df[ref_column], results_df[map_column], labels=labels, average='weighted')\n",
    "\n",
    "print(f\"\\nMacro F1-score: {f1_macro:.4f}\")  # Unweighted mean F1-score for all classes\n",
    "print(f\"Weighted F1-score: {f1_weighted:.4f}\")  # Weighted by support (number of true instances per class)"
   ]
  },
  {
   "cell_type": "code",
   "execution_count": 23,
   "id": "4c768b4b-49c5-420f-a695-97b14831992e",
   "metadata": {},
   "outputs": [
    {
     "data": {
      "text/html": [
       "\n",
       "            <style>\n",
       "                .geemap-dark {\n",
       "                    --jp-widgets-color: white;\n",
       "                    --jp-widgets-label-color: white;\n",
       "                    --jp-ui-font-color1: white;\n",
       "                    --jp-layout-color2: #454545;\n",
       "                    background-color: #383838;\n",
       "                }\n",
       "\n",
       "                .geemap-dark .jupyter-button {\n",
       "                    --jp-layout-color3: #383838;\n",
       "                }\n",
       "\n",
       "                .geemap-colab {\n",
       "                    background-color: var(--colab-primary-surface-color, white);\n",
       "                }\n",
       "\n",
       "                .geemap-colab .jupyter-button {\n",
       "                    --jp-layout-color3: var(--colab-primary-surface-color, white);\n",
       "                }\n",
       "            </style>\n",
       "            "
      ],
      "text/plain": [
       "<IPython.core.display.HTML object>"
      ]
     },
     "metadata": {},
     "output_type": "display_data"
    },
    {
     "name": "stdout",
     "output_type": "stream",
     "text": [
      "     11  12  13  14  15  21  22   30  41  42  50  60\n",
      "11  685   8   0   0  29   1   4    3   0   0   0   1\n",
      "12   99  64  18   0   8   1   0   12   1   0   0   0\n",
      "13   73  29  42   0   5   0   5   48   1   0   0   0\n",
      "14    0   0   0  17   0   0   0    2   0   0   0   0\n",
      "15   72  11   1   0  67   1   0   12   0   0   0   0\n",
      "21    0   1   0   0   1   8   1    0   0   0   0   0\n",
      "22    3   1   1   0   1   1  97   50   4   0   0   6\n",
      "30   89  78  34   0   1   1  63  455  12   0   2  10\n",
      "41    9   1   0   0   0   0   2    6  23   2   0   4\n",
      "42    1   1   0   0   0   0   0    4   4  25   0   4\n",
      "50    6   3   2   0   0   0   5   10   1   0  50   1\n",
      "60    0   0   1   0   0   0   3    3   0   0   0   6\n"
     ]
    }
   ],
   "source": [
    "cm_df = pd.DataFrame(conf_matrix, index=labels, columns=labels)\n",
    "print(cm_df)"
   ]
  },
  {
   "cell_type": "code",
   "execution_count": 24,
   "id": "98e9faac-a9c6-4a4a-bb11-2ab5a96174d5",
   "metadata": {},
   "outputs": [
    {
     "data": {
      "text/html": [
       "\n",
       "            <style>\n",
       "                .geemap-dark {\n",
       "                    --jp-widgets-color: white;\n",
       "                    --jp-widgets-label-color: white;\n",
       "                    --jp-ui-font-color1: white;\n",
       "                    --jp-layout-color2: #454545;\n",
       "                    background-color: #383838;\n",
       "                }\n",
       "\n",
       "                .geemap-dark .jupyter-button {\n",
       "                    --jp-layout-color3: #383838;\n",
       "                }\n",
       "\n",
       "                .geemap-colab {\n",
       "                    background-color: var(--colab-primary-surface-color, white);\n",
       "                }\n",
       "\n",
       "                .geemap-colab .jupyter-button {\n",
       "                    --jp-layout-color3: var(--colab-primary-surface-color, white);\n",
       "                }\n",
       "            </style>\n",
       "            "
      ],
      "text/plain": [
       "<IPython.core.display.HTML object>"
      ]
     },
     "metadata": {},
     "output_type": "display_data"
    }
   ],
   "source": [
    "#export\n",
    "#cm_df.to_csv(matrix_out,index=True)"
   ]
  },
  {
   "cell_type": "code",
   "execution_count": 25,
   "id": "d9599bbf-e269-44fa-90d1-54859a83c42b",
   "metadata": {},
   "outputs": [
    {
     "data": {
      "text/html": [
       "\n",
       "            <style>\n",
       "                .geemap-dark {\n",
       "                    --jp-widgets-color: white;\n",
       "                    --jp-widgets-label-color: white;\n",
       "                    --jp-ui-font-color1: white;\n",
       "                    --jp-layout-color2: #454545;\n",
       "                    background-color: #383838;\n",
       "                }\n",
       "\n",
       "                .geemap-dark .jupyter-button {\n",
       "                    --jp-layout-color3: #383838;\n",
       "                }\n",
       "\n",
       "                .geemap-colab {\n",
       "                    background-color: var(--colab-primary-surface-color, white);\n",
       "                }\n",
       "\n",
       "                .geemap-colab .jupyter-button {\n",
       "                    --jp-layout-color3: var(--colab-primary-surface-color, white);\n",
       "                }\n",
       "            </style>\n",
       "            "
      ],
      "text/plain": [
       "<IPython.core.display.HTML object>"
      ]
     },
     "metadata": {},
     "output_type": "display_data"
    },
    {
     "data": {
      "image/png": "[encoded data removed]",
      "text/plain": [
       "<Figure size 800x600 with 2 Axes>"
      ]
     },
     "metadata": {},
     "output_type": "display_data"
    }
   ],
   "source": [
    "# Plot confusion matrix as a heatmap\n",
    "plt.figure(figsize=(8, 6))\n",
    "sns.heatmap(cm_df, annot=True, fmt='d', cmap='Blues')\n",
    "plt.ylabel('Ref LCover')\n",
    "plt.xlabel('Map LCover')\n",
    "plt.title('Confusion Matrix')\n",
    "plt.show()"
   ]
  },
  {
   "cell_type": "code",
   "execution_count": 26,
   "id": "18cfbc97-dec9-44a6-8645-c9a07baa7cf4",
   "metadata": {},
   "outputs": [
    {
     "data": {
      "text/html": [
       "\n",
       "            <style>\n",
       "                .geemap-dark {\n",
       "                    --jp-widgets-color: white;\n",
       "                    --jp-widgets-label-color: white;\n",
       "                    --jp-ui-font-color1: white;\n",
       "                    --jp-layout-color2: #454545;\n",
       "                    background-color: #383838;\n",
       "                }\n",
       "\n",
       "                .geemap-dark .jupyter-button {\n",
       "                    --jp-layout-color3: #383838;\n",
       "                }\n",
       "\n",
       "                .geemap-colab {\n",
       "                    background-color: var(--colab-primary-surface-color, white);\n",
       "                }\n",
       "\n",
       "                .geemap-colab .jupyter-button {\n",
       "                    --jp-layout-color3: var(--colab-primary-surface-color, white);\n",
       "                }\n",
       "            </style>\n",
       "            "
      ],
      "text/plain": [
       "<IPython.core.display.HTML object>"
      ]
     },
     "metadata": {},
     "output_type": "display_data"
    }
   ],
   "source": [
    "# Select the column from areas_df to use for multiplication, for example, 'Area1'\n",
    "area_column = areas_df['Area (ha)']"
   ]
  },
  {
   "cell_type": "code",
   "execution_count": 27,
   "id": "90b5469e-a1ea-4106-95f7-9c8efc2afee3",
   "metadata": {},
   "outputs": [
    {
     "data": {
      "text/html": [
       "\n",
       "            <style>\n",
       "                .geemap-dark {\n",
       "                    --jp-widgets-color: white;\n",
       "                    --jp-widgets-label-color: white;\n",
       "                    --jp-ui-font-color1: white;\n",
       "                    --jp-layout-color2: #454545;\n",
       "                    background-color: #383838;\n",
       "                }\n",
       "\n",
       "                .geemap-dark .jupyter-button {\n",
       "                    --jp-layout-color3: #383838;\n",
       "                }\n",
       "\n",
       "                .geemap-colab {\n",
       "                    background-color: var(--colab-primary-surface-color, white);\n",
       "                }\n",
       "\n",
       "                .geemap-colab .jupyter-button {\n",
       "                    --jp-layout-color3: var(--colab-primary-surface-color, white);\n",
       "                }\n",
       "            </style>\n",
       "            "
      ],
      "text/plain": [
       "<IPython.core.display.HTML object>"
      ]
     },
     "metadata": {},
     "output_type": "display_data"
    }
   ],
   "source": [
    "# Convert the selected column to a NumPy array for broadcasting\n",
    "area_column = area_column.to_numpy()"
   ]
  },
  {
   "cell_type": "code",
   "execution_count": 28,
   "id": "9f6cd2b8-d25e-4366-afff-db4df78a6682",
   "metadata": {},
   "outputs": [
    {
     "data": {
      "text/html": [
       "\n",
       "            <style>\n",
       "                .geemap-dark {\n",
       "                    --jp-widgets-color: white;\n",
       "                    --jp-widgets-label-color: white;\n",
       "                    --jp-ui-font-color1: white;\n",
       "                    --jp-layout-color2: #454545;\n",
       "                    background-color: #383838;\n",
       "                }\n",
       "\n",
       "                .geemap-dark .jupyter-button {\n",
       "                    --jp-layout-color3: #383838;\n",
       "                }\n",
       "\n",
       "                .geemap-colab {\n",
       "                    background-color: var(--colab-primary-surface-color, white);\n",
       "                }\n",
       "\n",
       "                .geemap-colab .jupyter-button {\n",
       "                    --jp-layout-color3: var(--colab-primary-surface-color, white);\n",
       "                }\n",
       "            </style>\n",
       "            "
      ],
      "text/plain": [
       "<IPython.core.display.HTML object>"
      ]
     },
     "metadata": {},
     "output_type": "display_data"
    },
    {
     "data": {
      "text/plain": [
       "array([[1.92348909e+10, 2.24641061e+08, 0.00000000e+00, 0.00000000e+00,\n",
       "        8.14323848e+08, 2.80801327e+07, 1.12320531e+08, 8.42403981e+07,\n",
       "        0.00000000e+00, 0.00000000e+00, 0.00000000e+00, 2.80801327e+07],\n",
       "       [2.97706449e+08, 1.92456694e+08, 5.41284453e+07, 0.00000000e+00,\n",
       "        2.40570868e+07, 3.00713585e+06, 0.00000000e+00, 3.60856302e+07,\n",
       "        3.00713585e+06, 0.00000000e+00, 0.00000000e+00, 0.00000000e+00],\n",
       "       [8.60437753e+07, 3.41817737e+07, 4.95046378e+07, 0.00000000e+00,\n",
       "        5.89340927e+06, 0.00000000e+00, 5.89340927e+06, 5.65767289e+07,\n",
       "        1.17868185e+06, 0.00000000e+00, 0.00000000e+00, 0.00000000e+00],\n",
       "       [0.00000000e+00, 0.00000000e+00, 0.00000000e+00, 3.41418302e+06,\n",
       "        0.00000000e+00, 0.00000000e+00, 0.00000000e+00, 4.01668591e+05,\n",
       "        0.00000000e+00, 0.00000000e+00, 0.00000000e+00, 0.00000000e+00],\n",
       "       [1.18496009e+08, 1.81035569e+07, 1.64577790e+06, 0.00000000e+00,\n",
       "        1.10267119e+08, 1.64577790e+06, 0.00000000e+00, 1.97493348e+07,\n",
       "        0.00000000e+00, 0.00000000e+00, 0.00000000e+00, 0.00000000e+00],\n",
       "       [0.00000000e+00, 1.29711072e+05, 0.00000000e+00, 0.00000000e+00,\n",
       "        1.29711072e+05, 1.03768858e+06, 1.29711072e+05, 0.00000000e+00,\n",
       "        0.00000000e+00, 0.00000000e+00, 0.00000000e+00, 0.00000000e+00],\n",
       "       [9.08914961e+06, 3.02971654e+06, 3.02971654e+06, 0.00000000e+00,\n",
       "        3.02971654e+06, 3.02971654e+06, 2.93882504e+08, 1.51485827e+08,\n",
       "        1.21188661e+07, 0.00000000e+00, 0.00000000e+00, 1.81782992e+07],\n",
       "       [7.09309641e+08, 6.21642157e+08, 2.70972222e+08, 0.00000000e+00,\n",
       "        7.96977124e+06, 7.96977124e+06, 5.02095588e+08, 3.62624592e+09,\n",
       "        9.56372549e+07, 0.00000000e+00, 1.59395425e+07, 7.96977124e+07],\n",
       "       [4.37355256e+06, 4.85950285e+05, 0.00000000e+00, 0.00000000e+00,\n",
       "        0.00000000e+00, 0.00000000e+00, 9.71900570e+05, 2.91570171e+06,\n",
       "        1.11768566e+07, 9.71900570e+05, 0.00000000e+00, 1.94380114e+06],\n",
       "       [2.87862464e+05, 2.87862464e+05, 0.00000000e+00, 0.00000000e+00,\n",
       "        0.00000000e+00, 0.00000000e+00, 0.00000000e+00, 1.15144986e+06,\n",
       "        1.15144986e+06, 7.19656160e+06, 0.00000000e+00, 1.15144986e+06],\n",
       "       [1.38732450e+06, 6.93662252e+05, 4.62441501e+05, 0.00000000e+00,\n",
       "        0.00000000e+00, 0.00000000e+00, 1.15610375e+06, 2.31220751e+06,\n",
       "        2.31220751e+05, 0.00000000e+00, 1.15610375e+07, 2.31220751e+05],\n",
       "       [0.00000000e+00, 0.00000000e+00, 3.41001725e+05, 0.00000000e+00,\n",
       "        0.00000000e+00, 0.00000000e+00, 1.02300517e+06, 1.02300517e+06,\n",
       "        0.00000000e+00, 0.00000000e+00, 0.00000000e+00, 2.04601035e+06]])"
      ]
     },
     "execution_count": 28,
     "metadata": {},
     "output_type": "execute_result"
    }
   ],
   "source": [
    "# Perform element-wise multiplication using broadcasting\n",
    "weighted_conf_matrix = conf_matrix * area_column[:, np.newaxis]\n",
    "weighted_conf_matrix"
   ]
  },
  {
   "cell_type": "code",
   "execution_count": 29,
   "id": "c67c6fbe-1173-4f8f-9097-892b4d4f47ff",
   "metadata": {},
   "outputs": [
    {
     "data": {
      "text/html": [
       "\n",
       "            <style>\n",
       "                .geemap-dark {\n",
       "                    --jp-widgets-color: white;\n",
       "                    --jp-widgets-label-color: white;\n",
       "                    --jp-ui-font-color1: white;\n",
       "                    --jp-layout-color2: #454545;\n",
       "                    background-color: #383838;\n",
       "                }\n",
       "\n",
       "                .geemap-dark .jupyter-button {\n",
       "                    --jp-layout-color3: #383838;\n",
       "                }\n",
       "\n",
       "                .geemap-colab {\n",
       "                    background-color: var(--colab-primary-surface-color, white);\n",
       "                }\n",
       "\n",
       "                .geemap-colab .jupyter-button {\n",
       "                    --jp-layout-color3: var(--colab-primary-surface-color, white);\n",
       "                }\n",
       "            </style>\n",
       "            "
      ],
      "text/plain": [
       "<IPython.core.display.HTML object>"
      ]
     },
     "metadata": {},
     "output_type": "display_data"
    },
    {
     "data": {
      "text/plain": [
       "0.8365929612869984"
      ]
     },
     "execution_count": 29,
     "metadata": {},
     "output_type": "execute_result"
    }
   ],
   "source": [
    "# Calculate overall accuracy\n",
    "overall_accuracy = np.trace(weighted_conf_matrix) / np.sum(weighted_conf_matrix)\n",
    "overall_accuracy"
   ]
  },
  {
   "cell_type": "code",
   "execution_count": 30,
   "id": "0097378c-eb19-4a84-8b10-8c7ae3042814",
   "metadata": {},
   "outputs": [
    {
     "data": {
      "text/html": [
       "\n",
       "            <style>\n",
       "                .geemap-dark {\n",
       "                    --jp-widgets-color: white;\n",
       "                    --jp-widgets-label-color: white;\n",
       "                    --jp-ui-font-color1: white;\n",
       "                    --jp-layout-color2: #454545;\n",
       "                    background-color: #383838;\n",
       "                }\n",
       "\n",
       "                .geemap-dark .jupyter-button {\n",
       "                    --jp-layout-color3: #383838;\n",
       "                }\n",
       "\n",
       "                .geemap-colab {\n",
       "                    background-color: var(--colab-primary-surface-color, white);\n",
       "                }\n",
       "\n",
       "                .geemap-colab .jupyter-button {\n",
       "                    --jp-layout-color3: var(--colab-primary-surface-color, white);\n",
       "                }\n",
       "            </style>\n",
       "            "
      ],
      "text/plain": [
       "<IPython.core.display.HTML object>"
      ]
     },
     "metadata": {},
     "output_type": "display_data"
    },
    {
     "data": {
      "text/plain": [
       "array([0.94004894, 0.17565492, 0.13024649, 1.        , 0.11418709,\n",
       "       0.0231781 , 0.32031742, 0.91061648, 0.08977289, 0.88101793,\n",
       "       0.4203925 , 0.01557932])"
      ]
     },
     "execution_count": 30,
     "metadata": {},
     "output_type": "execute_result"
    }
   ],
   "source": [
    "# Calculate user's accuracy (precision) and producer's accuracy (recall)\n",
    "users_accuracy = np.diag(weighted_conf_matrix) / np.sum(weighted_conf_matrix, axis=0)\n",
    "users_accuracy"
   ]
  },
  {
   "cell_type": "code",
   "execution_count": 31,
   "id": "5bd3c554-165a-4629-a234-c6d0fc825306",
   "metadata": {},
   "outputs": [
    {
     "data": {
      "text/html": [
       "\n",
       "            <style>\n",
       "                .geemap-dark {\n",
       "                    --jp-widgets-color: white;\n",
       "                    --jp-widgets-label-color: white;\n",
       "                    --jp-ui-font-color1: white;\n",
       "                    --jp-layout-color2: #454545;\n",
       "                    background-color: #383838;\n",
       "                }\n",
       "\n",
       "                .geemap-dark .jupyter-button {\n",
       "                    --jp-layout-color3: #383838;\n",
       "                }\n",
       "\n",
       "                .geemap-colab {\n",
       "                    background-color: var(--colab-primary-surface-color, white);\n",
       "                }\n",
       "\n",
       "                .geemap-colab .jupyter-button {\n",
       "                    --jp-layout-color3: var(--colab-primary-surface-color, white);\n",
       "                }\n",
       "            </style>\n",
       "            "
      ],
      "text/plain": [
       "<IPython.core.display.HTML object>"
      ]
     },
     "metadata": {},
     "output_type": "display_data"
    },
    {
     "data": {
      "text/plain": [
       "array([0.9370725 , 0.31527094, 0.20689655, 0.89473684, 0.40853659,\n",
       "       0.72727273, 0.59146341, 0.61073826, 0.4893617 , 0.64102564,\n",
       "       0.64102564, 0.46153846])"
      ]
     },
     "execution_count": 31,
     "metadata": {},
     "output_type": "execute_result"
    }
   ],
   "source": [
    "producers_accuracy = np.diag(weighted_conf_matrix) / np.sum(weighted_conf_matrix, axis=1)\n",
    "producers_accuracy"
   ]
  },
  {
   "cell_type": "code",
   "execution_count": 32,
   "id": "1914b086-2cc6-4c30-ae25-5dcb8715fbc4",
   "metadata": {},
   "outputs": [
    {
     "data": {
      "text/html": [
       "\n",
       "            <style>\n",
       "                .geemap-dark {\n",
       "                    --jp-widgets-color: white;\n",
       "                    --jp-widgets-label-color: white;\n",
       "                    --jp-ui-font-color1: white;\n",
       "                    --jp-layout-color2: #454545;\n",
       "                    background-color: #383838;\n",
       "                }\n",
       "\n",
       "                .geemap-dark .jupyter-button {\n",
       "                    --jp-layout-color3: #383838;\n",
       "                }\n",
       "\n",
       "                .geemap-colab {\n",
       "                    background-color: var(--colab-primary-surface-color, white);\n",
       "                }\n",
       "\n",
       "                .geemap-colab .jupyter-button {\n",
       "                    --jp-layout-color3: var(--colab-primary-surface-color, white);\n",
       "                }\n",
       "            </style>\n",
       "            "
      ],
      "text/plain": [
       "<IPython.core.display.HTML object>"
      ]
     },
     "metadata": {},
     "output_type": "display_data"
    }
   ],
   "source": [
    "# Calculate the kappa coefficient\n",
    "total_sum = np.sum(weighted_conf_matrix)\n",
    "random_agreement = np.sum(np.sum(weighted_conf_matrix, axis=0) * np.sum(weighted_conf_matrix, axis=1)) / total_sum\n",
    "kappa = (overall_accuracy - random_agreement) / (1 - random_agreement)"
   ]
  },
  {
   "cell_type": "code",
   "execution_count": 33,
   "id": "b602e8fb-5de2-4736-8a75-0756ed30a9fb",
   "metadata": {},
   "outputs": [
    {
     "data": {
      "text/html": [
       "\n",
       "            <style>\n",
       "                .geemap-dark {\n",
       "                    --jp-widgets-color: white;\n",
       "                    --jp-widgets-label-color: white;\n",
       "                    --jp-ui-font-color1: white;\n",
       "                    --jp-layout-color2: #454545;\n",
       "                    background-color: #383838;\n",
       "                }\n",
       "\n",
       "                .geemap-dark .jupyter-button {\n",
       "                    --jp-layout-color3: #383838;\n",
       "                }\n",
       "\n",
       "                .geemap-colab {\n",
       "                    background-color: var(--colab-primary-surface-color, white);\n",
       "                }\n",
       "\n",
       "                .geemap-colab .jupyter-button {\n",
       "                    --jp-layout-color3: var(--colab-primary-surface-color, white);\n",
       "                }\n",
       "            </style>\n",
       "            "
      ],
      "text/plain": [
       "<IPython.core.display.HTML object>"
      ]
     },
     "metadata": {},
     "output_type": "display_data"
    },
    {
     "name": "stdout",
     "output_type": "stream",
     "text": [
      "                 Class  User's Accuracy Producer's Accuracy Reference Area\n",
      "0                   11            0.940               0.937   28080132.686\n",
      "1                   12            0.176               0.315    3007135.851\n",
      "2                   13            0.130               0.207    1178681.853\n",
      "3                   14            1.000               0.895     200834.295\n",
      "4                   15            0.114               0.409    1645777.896\n",
      "5                   21            0.023               0.727     129711.072\n",
      "6                   22            0.320               0.591    3029716.536\n",
      "7                   30            0.911               0.611    7969771.245\n",
      "8                   41            0.090               0.489     485950.285\n",
      "9                   42            0.881               0.641     287862.464\n",
      "10                  50            0.420               0.641     231220.751\n",
      "11                  60            0.016               0.462     341001.725\n",
      "Overall Accuracy     -            0.837                   -              -\n",
      "Kappa                -            1.000                   -              -\n"
     ]
    }
   ],
   "source": [
    "# Create a DataFrame to display the results\n",
    "results = {\n",
    "    \"Class\": labels,\n",
    "    \"User's Accuracy\": users_accuracy,\n",
    "    \"Producer's Accuracy\": producers_accuracy,\n",
    "    \"Reference Area\": area_column\n",
    "}\n",
    "\n",
    "acc_df = pd.DataFrame(results)\n",
    "\n",
    "# Adding Overall Accuracy and Kappa to the DataFrame\n",
    "acc_df.loc[\"Overall Accuracy\"] = [\"-\", overall_accuracy, \"-\", \"-\"]\n",
    "acc_df.loc[\"Kappa\"] = [\"-\", kappa, \"-\", \"-\"]\n",
    "\n",
    "# Display the results\n",
    "print(acc_df)"
   ]
  },
  {
   "cell_type": "code",
   "execution_count": 34,
   "id": "a38d8041-1689-4786-8316-9ae8d087b48b",
   "metadata": {},
   "outputs": [
    {
     "data": {
      "text/html": [
       "\n",
       "            <style>\n",
       "                .geemap-dark {\n",
       "                    --jp-widgets-color: white;\n",
       "                    --jp-widgets-label-color: white;\n",
       "                    --jp-ui-font-color1: white;\n",
       "                    --jp-layout-color2: #454545;\n",
       "                    background-color: #383838;\n",
       "                }\n",
       "\n",
       "                .geemap-dark .jupyter-button {\n",
       "                    --jp-layout-color3: #383838;\n",
       "                }\n",
       "\n",
       "                .geemap-colab {\n",
       "                    background-color: var(--colab-primary-surface-color, white);\n",
       "                }\n",
       "\n",
       "                .geemap-colab .jupyter-button {\n",
       "                    --jp-layout-color3: var(--colab-primary-surface-color, white);\n",
       "                }\n",
       "            </style>\n",
       "            "
      ],
      "text/plain": [
       "<IPython.core.display.HTML object>"
      ]
     },
     "metadata": {},
     "output_type": "display_data"
    }
   ],
   "source": [
    "import random\n",
    "\n",
    "def bootstrap_conf_intervals(data, num_samples=100, alpha=0.05):\n",
    "    samples = np.random.choice(data, size=(num_samples, len(data)), replace=True)\n",
    "    metric_means = np.mean(samples, axis=1)\n",
    "    lower = np.percentile(metric_means, 100 * alpha / 2)\n",
    "    upper = np.percentile(metric_means, 100 * (1 - alpha / 2))\n",
    "    return lower, upper\n",
    "\n",
    "# Compute bootstrap confidence intervals for user's accuracy\n",
    "user_accuracy_intervals = [bootstrap_conf_intervals(conf_matrix[i, :] / conf_matrix.sum(axis=1)) for i in range(len(conf_matrix))]\n",
    "producer_accuracy_intervals = [bootstrap_conf_intervals(conf_matrix[:, i] / conf_matrix.sum(axis=0)) for i in range(len(conf_matrix))]\n",
    "overall_accuracy_interval = bootstrap_conf_intervals([overall_accuracy] * len(conf_matrix))\n",
    "kappa_interval = bootstrap_conf_intervals([kappa] * len(conf_matrix))\n",
    "\n",
    "# Compute bootstrap confidence intervals for area calculations\n",
    "area_intervals = [bootstrap_conf_intervals(areas_df['Area (ha)']) for area in areas_df['Area (ha)']]"
   ]
  },
  {
   "cell_type": "code",
   "execution_count": 35,
   "id": "65f152ff-06df-4bbf-a805-9446523690e1",
   "metadata": {},
   "outputs": [
    {
     "data": {
      "text/html": [
       "\n",
       "            <style>\n",
       "                .geemap-dark {\n",
       "                    --jp-widgets-color: white;\n",
       "                    --jp-widgets-label-color: white;\n",
       "                    --jp-ui-font-color1: white;\n",
       "                    --jp-layout-color2: #454545;\n",
       "                    background-color: #383838;\n",
       "                }\n",
       "\n",
       "                .geemap-dark .jupyter-button {\n",
       "                    --jp-layout-color3: #383838;\n",
       "                }\n",
       "\n",
       "                .geemap-colab {\n",
       "                    background-color: var(--colab-primary-surface-color, white);\n",
       "                }\n",
       "\n",
       "                .geemap-colab .jupyter-button {\n",
       "                    --jp-layout-color3: var(--colab-primary-surface-color, white);\n",
       "                }\n",
       "            </style>\n",
       "            "
      ],
      "text/plain": [
       "<IPython.core.display.HTML object>"
      ]
     },
     "metadata": {},
     "output_type": "display_data"
    },
    {
     "data": {
      "text/html": [
       "<div>\n",
       "<style scoped>\n",
       "    .dataframe tbody tr th:only-of-type {\n",
       "        vertical-align: middle;\n",
       "    }\n",
       "\n",
       "    .dataframe tbody tr th {\n",
       "        vertical-align: top;\n",
       "    }\n",
       "\n",
       "    .dataframe thead th {\n",
       "        text-align: right;\n",
       "    }\n",
       "</style>\n",
       "<table border=\"1\" class=\"dataframe\">\n",
       "  <thead>\n",
       "    <tr style=\"text-align: right;\">\n",
       "      <th></th>\n",
       "      <th>Class</th>\n",
       "      <th>User's Accuracy</th>\n",
       "      <th>User's Accuracy CI</th>\n",
       "      <th>Producer's Accuracy</th>\n",
       "      <th>Producer's Accuracy CI</th>\n",
       "      <th>Reference Area</th>\n",
       "      <th>Area CI</th>\n",
       "    </tr>\n",
       "  </thead>\n",
       "  <tbody>\n",
       "    <tr>\n",
       "      <th>0</th>\n",
       "      <td>11</td>\n",
       "      <td>0.940</td>\n",
       "      <td>(0.023293209270582965, 0.26802898386531915)</td>\n",
       "      <td>0.937</td>\n",
       "      <td>(0.12032049076835664, 0.42304060966138596)</td>\n",
       "      <td>28080132.686</td>\n",
       "      <td>(644034.9679995383, 8534705.980277063)</td>\n",
       "    </tr>\n",
       "    <tr>\n",
       "      <th>1</th>\n",
       "      <td>12</td>\n",
       "      <td>0.176</td>\n",
       "      <td>(0.01631467888939831, 0.11050520002614235)</td>\n",
       "      <td>0.315</td>\n",
       "      <td>(0.03155394107506746, 0.15131763912793994)</td>\n",
       "      <td>3007135.851</td>\n",
       "      <td>(737733.6420713564, 8224818.38157483)</td>\n",
       "    </tr>\n",
       "    <tr>\n",
       "      <th>2</th>\n",
       "      <td>13</td>\n",
       "      <td>0.130</td>\n",
       "      <td>(0.017681954609786305, 0.08841267677544869)</td>\n",
       "      <td>0.207</td>\n",
       "      <td>(0.007059219452685362, 0.14275200929812332)</td>\n",
       "      <td>1178681.853</td>\n",
       "      <td>(1063029.67983803, 9108166.433251822)</td>\n",
       "    </tr>\n",
       "    <tr>\n",
       "      <th>3</th>\n",
       "      <td>14</td>\n",
       "      <td>1.000</td>\n",
       "      <td>(0.0, 0.2236842105263158)</td>\n",
       "      <td>0.895</td>\n",
       "      <td>(0.0, 0.25)</td>\n",
       "      <td>200834.295</td>\n",
       "      <td>(762820.9562416659, 7953423.815282441)</td>\n",
       "    </tr>\n",
       "    <tr>\n",
       "      <th>4</th>\n",
       "      <td>15</td>\n",
       "      <td>0.114</td>\n",
       "      <td>(0.010156784023276001, 0.12153635590211193)</td>\n",
       "      <td>0.409</td>\n",
       "      <td>(0.007414601338614652, 0.16528897544327859)</td>\n",
       "      <td>1645777.896</td>\n",
       "      <td>(968260.153617374, 8519272.434113013)</td>\n",
       "    </tr>\n",
       "    <tr>\n",
       "      <th>5</th>\n",
       "      <td>21</td>\n",
       "      <td>0.023</td>\n",
       "      <td>(0.0006518708198165725, 0.18365546004318084)</td>\n",
       "      <td>0.727</td>\n",
       "      <td>(0.0011313318581219803, 0.15640033122465746)</td>\n",
       "      <td>129711.072</td>\n",
       "      <td>(961674.0582672586, 9791800.936265282)</td>\n",
       "    </tr>\n",
       "    <tr>\n",
       "      <th>6</th>\n",
       "      <td>22</td>\n",
       "      <td>0.320</td>\n",
       "      <td>(0.020103456248088437, 0.21904717441922794)</td>\n",
       "      <td>0.591</td>\n",
       "      <td>(0.02640105556656964, 0.16904557789835706)</td>\n",
       "      <td>3029716.536</td>\n",
       "      <td>(869385.2215464335, 8008626.108108633)</td>\n",
       "    </tr>\n",
       "    <tr>\n",
       "      <th>7</th>\n",
       "      <td>30</td>\n",
       "      <td>0.911</td>\n",
       "      <td>(0.11293422763252003, 0.38222400101446974)</td>\n",
       "      <td>0.611</td>\n",
       "      <td>(0.09441284886705363, 0.30663190135892276)</td>\n",
       "      <td>7969771.245</td>\n",
       "      <td>(964399.7436334167, 10042884.60655673)</td>\n",
       "    </tr>\n",
       "    <tr>\n",
       "      <th>8</th>\n",
       "      <td>41</td>\n",
       "      <td>0.090</td>\n",
       "      <td>(0.003106645964313076, 0.17279552997282527)</td>\n",
       "      <td>0.489</td>\n",
       "      <td>(0.004837590321410118, 0.14520321709715647)</td>\n",
       "      <td>485950.285</td>\n",
       "      <td>(748415.8699390993, 7862426.099436339)</td>\n",
       "    </tr>\n",
       "    <tr>\n",
       "      <th>9</th>\n",
       "      <td>42</td>\n",
       "      <td>0.881</td>\n",
       "      <td>(0.0011770023289478114, 0.2173079877049017)</td>\n",
       "      <td>0.641</td>\n",
       "      <td>(0.0, 0.23338365539452494)</td>\n",
       "      <td>287862.464</td>\n",
       "      <td>(953371.9952127764, 10523425.526764039)</td>\n",
       "    </tr>\n",
       "    <tr>\n",
       "      <th>10</th>\n",
       "      <td>50</td>\n",
       "      <td>0.420</td>\n",
       "      <td>(0.007552690481537397, 0.17861663698810712)</td>\n",
       "      <td>0.641</td>\n",
       "      <td>(0.0, 0.24066009747827932)</td>\n",
       "      <td>231220.751</td>\n",
       "      <td>(863528.1368930797, 7096086.133589247)</td>\n",
       "    </tr>\n",
       "    <tr>\n",
       "      <th>11</th>\n",
       "      <td>60</td>\n",
       "      <td>0.016</td>\n",
       "      <td>(0.00041050903119868636, 0.11806369826954033)</td>\n",
       "      <td>0.462</td>\n",
       "      <td>(0.009399003410418025, 0.07853693357712885)</td>\n",
       "      <td>341001.725</td>\n",
       "      <td>(901155.3133595209, 9390537.333999628)</td>\n",
       "    </tr>\n",
       "    <tr>\n",
       "      <th>Overall Accuracy</th>\n",
       "      <td>-</td>\n",
       "      <td>0.837</td>\n",
       "      <td>(0.8365929612869983, 0.8365929612869983)</td>\n",
       "      <td>-</td>\n",
       "      <td>-</td>\n",
       "      <td>-</td>\n",
       "      <td>-</td>\n",
       "    </tr>\n",
       "    <tr>\n",
       "      <th>Kappa</th>\n",
       "      <td>-</td>\n",
       "      <td>1.000</td>\n",
       "      <td>(1.000000000010331, 1.000000000010331)</td>\n",
       "      <td>-</td>\n",
       "      <td>-</td>\n",
       "      <td>-</td>\n",
       "      <td>-</td>\n",
       "    </tr>\n",
       "  </tbody>\n",
       "</table>\n",
       "</div>"
      ],
      "text/plain": [
       "                 Class  User's Accuracy  \\\n",
       "0                   11            0.940   \n",
       "1                   12            0.176   \n",
       "2                   13            0.130   \n",
       "3                   14            1.000   \n",
       "4                   15            0.114   \n",
       "5                   21            0.023   \n",
       "6                   22            0.320   \n",
       "7                   30            0.911   \n",
       "8                   41            0.090   \n",
       "9                   42            0.881   \n",
       "10                  50            0.420   \n",
       "11                  60            0.016   \n",
       "Overall Accuracy     -            0.837   \n",
       "Kappa                -            1.000   \n",
       "\n",
       "                                             User's Accuracy CI  \\\n",
       "0                   (0.023293209270582965, 0.26802898386531915)   \n",
       "1                    (0.01631467888939831, 0.11050520002614235)   \n",
       "2                   (0.017681954609786305, 0.08841267677544869)   \n",
       "3                                     (0.0, 0.2236842105263158)   \n",
       "4                   (0.010156784023276001, 0.12153635590211193)   \n",
       "5                  (0.0006518708198165725, 0.18365546004318084)   \n",
       "6                   (0.020103456248088437, 0.21904717441922794)   \n",
       "7                    (0.11293422763252003, 0.38222400101446974)   \n",
       "8                   (0.003106645964313076, 0.17279552997282527)   \n",
       "9                   (0.0011770023289478114, 0.2173079877049017)   \n",
       "10                  (0.007552690481537397, 0.17861663698810712)   \n",
       "11                (0.00041050903119868636, 0.11806369826954033)   \n",
       "Overall Accuracy       (0.8365929612869983, 0.8365929612869983)   \n",
       "Kappa                    (1.000000000010331, 1.000000000010331)   \n",
       "\n",
       "                 Producer's Accuracy  \\\n",
       "0                              0.937   \n",
       "1                              0.315   \n",
       "2                              0.207   \n",
       "3                              0.895   \n",
       "4                              0.409   \n",
       "5                              0.727   \n",
       "6                              0.591   \n",
       "7                              0.611   \n",
       "8                              0.489   \n",
       "9                              0.641   \n",
       "10                             0.641   \n",
       "11                             0.462   \n",
       "Overall Accuracy                   -   \n",
       "Kappa                              -   \n",
       "\n",
       "                                        Producer's Accuracy CI Reference Area  \\\n",
       "0                   (0.12032049076835664, 0.42304060966138596)   28080132.686   \n",
       "1                   (0.03155394107506746, 0.15131763912793994)    3007135.851   \n",
       "2                  (0.007059219452685362, 0.14275200929812332)    1178681.853   \n",
       "3                                                  (0.0, 0.25)     200834.295   \n",
       "4                  (0.007414601338614652, 0.16528897544327859)    1645777.896   \n",
       "5                 (0.0011313318581219803, 0.15640033122465746)     129711.072   \n",
       "6                   (0.02640105556656964, 0.16904557789835706)    3029716.536   \n",
       "7                   (0.09441284886705363, 0.30663190135892276)    7969771.245   \n",
       "8                  (0.004837590321410118, 0.14520321709715647)     485950.285   \n",
       "9                                   (0.0, 0.23338365539452494)     287862.464   \n",
       "10                                  (0.0, 0.24066009747827932)     231220.751   \n",
       "11                 (0.009399003410418025, 0.07853693357712885)     341001.725   \n",
       "Overall Accuracy                                             -              -   \n",
       "Kappa                                                        -              -   \n",
       "\n",
       "                                                  Area CI  \n",
       "0                  (644034.9679995383, 8534705.980277063)  \n",
       "1                   (737733.6420713564, 8224818.38157483)  \n",
       "2                   (1063029.67983803, 9108166.433251822)  \n",
       "3                  (762820.9562416659, 7953423.815282441)  \n",
       "4                   (968260.153617374, 8519272.434113013)  \n",
       "5                  (961674.0582672586, 9791800.936265282)  \n",
       "6                  (869385.2215464335, 8008626.108108633)  \n",
       "7                  (964399.7436334167, 10042884.60655673)  \n",
       "8                  (748415.8699390993, 7862426.099436339)  \n",
       "9                 (953371.9952127764, 10523425.526764039)  \n",
       "10                 (863528.1368930797, 7096086.133589247)  \n",
       "11                 (901155.3133595209, 9390537.333999628)  \n",
       "Overall Accuracy                                        -  \n",
       "Kappa                                                   -  "
      ]
     },
     "execution_count": 35,
     "metadata": {},
     "output_type": "execute_result"
    }
   ],
   "source": [
    "results = {\n",
    "    \"Class\": labels,\n",
    "    \"User's Accuracy\": users_accuracy,\n",
    "    \"User's Accuracy CI\": user_accuracy_intervals,\n",
    "    \"Producer's Accuracy\": producers_accuracy,\n",
    "    \"Producer's Accuracy CI\": producer_accuracy_intervals,\n",
    "    \"Reference Area\": areas_df['Area (ha)'],\n",
    "    \"Area CI\": area_intervals\n",
    "}\n",
    "\n",
    "acc_df = pd.DataFrame(results)\n",
    "\n",
    "# Adding Overall Accuracy and Kappa to the DataFrame\n",
    "acc_df.loc[\"Overall Accuracy\"] = [\"-\", overall_accuracy, overall_accuracy_interval, \"-\", \"-\", \"-\", \"-\"]\n",
    "acc_df.loc[\"Kappa\"] = [\"-\", kappa, kappa_interval, \"-\", \"-\", \"-\", \"-\"]\n",
    "\n",
    "# Display the results\n",
    "acc_df"
   ]
  },
  {
   "cell_type": "code",
   "execution_count": null,
   "id": "d45564fb-b5eb-4fa9-922b-97642a5f4b99",
   "metadata": {},
   "outputs": [],
   "source": []
  }
 ],
 "metadata": {
  "kernelspec": {
   "display_name": "Python 3",
   "language": "python",
   "name": "python3"
  },
  "language_info": {
   "codemirror_mode": {
    "name": "ipython",
    "version": 3
   },
   "file_extension": ".py",
   "mimetype": "text/x-python",
   "name": "python",
   "nbconvert_exporter": "python",
   "pygments_lexer": "ipython3",
   "version": "3.10.12"
  }
 },
 "nbformat": 4,
 "nbformat_minor": 5
}
